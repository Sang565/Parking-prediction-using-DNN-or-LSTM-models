{
  "nbformat": 4,
  "nbformat_minor": 0,
  "metadata": {
    "accelerator": "GPU",
    "colab": {
      "name": "LSTM_16-8-8_model_for_ParkingPrediction.ipynb",
      "provenance": [],
      "collapsed_sections": [],
      "toc_visible": true,
      "mount_file_id": "1hRKEoqvcVFZA2mroZr4GhOjCLHwYTXFG",
      "authorship_tag": "ABX9TyOLvDzPWvkr1v3kS3wTqsEB",
      "include_colab_link": true
    },
    "kernelspec": {
      "display_name": "Python 3",
      "name": "python3"
    }
  },
  "cells": [
    {
      "cell_type": "markdown",
      "metadata": {
        "id": "view-in-github",
        "colab_type": "text"
      },
      "source": [
        "<a href=\"https://colab.research.google.com/github/Sang565/Parking-prediction-using-DNN-or-LSTM-models/blob/main/LSTM_16_8_8_model_for_ParkingPrediction.ipynb\" target=\"_parent\"><img src=\"https://colab.research.google.com/assets/colab-badge.svg\" alt=\"Open In Colab\"/></a>"
      ]
    },
    {
      "cell_type": "markdown",
      "metadata": {
        "id": "pRryoFE6mjro"
      },
      "source": [
        "# Parking prediction using Deep LSTM-based model"
      ]
    },
    {
      "cell_type": "markdown",
      "metadata": {
        "id": "c6wpxZw1QcAo"
      },
      "source": [
        "Running parking occupancy prediction with **our simulated dataset**, instead of the real Birmingham parking dataset\r\n",
        "\r\n",
        "Dataset link: \r\n",
        "+ Our simulated dataset: https://archive.org/download/simulated-parking-datasets/dataset-20200501_20200731.csv"
      ]
    },
    {
      "cell_type": "markdown",
      "metadata": {
        "id": "54cfXNtJUoLo"
      },
      "source": [
        "# Import libraries"
      ]
    },
    {
      "cell_type": "code",
      "metadata": {
        "id": "2aii2BrSSzet"
      },
      "source": [
        "import pandas as pd\r\n",
        "import matplotlib as mpl\r\n",
        "import matplotlib.pyplot as plt\r\n",
        "from sklearn.model_selection import train_test_split\r\n",
        "from sklearn.preprocessing import MinMaxScaler, StandardScaler\r\n",
        "                                                            \r\n",
        "from tensorflow.python.keras.preprocessing.sequence import TimeseriesGenerator  #must use this one for training with TimeSeriesGenerator \r\n",
        "import tensorflow as tf "
      ],
      "execution_count": null,
      "outputs": []
    },
    {
      "cell_type": "markdown",
      "metadata": {
        "id": "P_Vj6N_Ow_xU"
      },
      "source": [
        "# Part 1. Data Pre-processing"
      ]
    },
    {
      "cell_type": "markdown",
      "metadata": {
        "id": "iV84DBf1Uby-"
      },
      "source": [
        "# Read dataset"
      ]
    },
    {
      "cell_type": "markdown",
      "metadata": {
        "id": "yB_zIUWkTrBC"
      },
      "source": [
        "Read dataset and convert to pandas dataFrame"
      ]
    },
    {
      "cell_type": "code",
      "metadata": {
        "id": "qHXYwUc3ToWj"
      },
      "source": [
        "#df = pd.read_csv('/content/dataset-20200501_20200731.csv')   # via the file downloaded\r\n",
        "df = pd.read_csv('https://archive.org/download/simulated-parking-datasets/dataset-20200501_20200731.csv')  # our simulated dataset"
      ],
      "execution_count": null,
      "outputs": []
    },
    {
      "cell_type": "code",
      "metadata": {
        "id": "NH_CO5r0VbtF",
        "colab": {
          "base_uri": "https://localhost:8080/"
        },
        "outputId": "4c43d40a-2fb9-43c3-d1db-50fa1d4f5ab7"
      },
      "source": [
        "df.info()"
      ],
      "execution_count": null,
      "outputs": [
        {
          "output_type": "stream",
          "text": [
            "<class 'pandas.core.frame.DataFrame'>\n",
            "RangeIndex: 243104 entries, 0 to 243103\n",
            "Data columns (total 3 columns):\n",
            " #   Column            Non-Null Count   Dtype \n",
            "---  ------            --------------   ----- \n",
            " 0   LastUpdated       243104 non-null  object\n",
            " 1   SystemCodeNumber  243104 non-null  int64 \n",
            " 2   Occupancy         243104 non-null  int64 \n",
            "dtypes: int64(2), object(1)\n",
            "memory usage: 5.6+ MB\n"
          ],
          "name": "stdout"
        }
      ]
    },
    {
      "cell_type": "code",
      "metadata": {
        "id": "tToUkB3wddyG",
        "colab": {
          "base_uri": "https://localhost:8080/"
        },
        "outputId": "ba2fd65e-9605-4aae-cd7d-3fbccc0d0b7a"
      },
      "source": [
        "df.shape"
      ],
      "execution_count": null,
      "outputs": [
        {
          "output_type": "execute_result",
          "data": {
            "text/plain": [
              "(243104, 3)"
            ]
          },
          "metadata": {
            "tags": []
          },
          "execution_count": 4
        }
      ]
    },
    {
      "cell_type": "code",
      "metadata": {
        "id": "9qLMHt8m_CdK",
        "colab": {
          "base_uri": "https://localhost:8080/",
          "height": 198
        },
        "outputId": "5bbae026-304e-4781-d22a-bdc41e9e6d07"
      },
      "source": [
        "df.head()"
      ],
      "execution_count": null,
      "outputs": [
        {
          "output_type": "execute_result",
          "data": {
            "text/html": [
              "<div>\n",
              "<style scoped>\n",
              "    .dataframe tbody tr th:only-of-type {\n",
              "        vertical-align: middle;\n",
              "    }\n",
              "\n",
              "    .dataframe tbody tr th {\n",
              "        vertical-align: top;\n",
              "    }\n",
              "\n",
              "    .dataframe thead th {\n",
              "        text-align: right;\n",
              "    }\n",
              "</style>\n",
              "<table border=\"1\" class=\"dataframe\">\n",
              "  <thead>\n",
              "    <tr style=\"text-align: right;\">\n",
              "      <th></th>\n",
              "      <th>LastUpdated</th>\n",
              "      <th>SystemCodeNumber</th>\n",
              "      <th>Occupancy</th>\n",
              "    </tr>\n",
              "  </thead>\n",
              "  <tbody>\n",
              "    <tr>\n",
              "      <th>0</th>\n",
              "      <td>2020-05-01T00:00:15.000+12:00</td>\n",
              "      <td>1</td>\n",
              "      <td>102</td>\n",
              "    </tr>\n",
              "    <tr>\n",
              "      <th>1</th>\n",
              "      <td>2020-05-01T00:00:15.000+12:00</td>\n",
              "      <td>2</td>\n",
              "      <td>188</td>\n",
              "    </tr>\n",
              "    <tr>\n",
              "      <th>2</th>\n",
              "      <td>2020-05-01T00:01:15.000+12:00</td>\n",
              "      <td>1</td>\n",
              "      <td>108</td>\n",
              "    </tr>\n",
              "    <tr>\n",
              "      <th>3</th>\n",
              "      <td>2020-05-01T00:01:15.000+12:00</td>\n",
              "      <td>2</td>\n",
              "      <td>165</td>\n",
              "    </tr>\n",
              "    <tr>\n",
              "      <th>4</th>\n",
              "      <td>2020-05-01T00:02:15.000+12:00</td>\n",
              "      <td>1</td>\n",
              "      <td>106</td>\n",
              "    </tr>\n",
              "  </tbody>\n",
              "</table>\n",
              "</div>"
            ],
            "text/plain": [
              "                     LastUpdated  SystemCodeNumber  Occupancy\n",
              "0  2020-05-01T00:00:15.000+12:00                 1        102\n",
              "1  2020-05-01T00:00:15.000+12:00                 2        188\n",
              "2  2020-05-01T00:01:15.000+12:00                 1        108\n",
              "3  2020-05-01T00:01:15.000+12:00                 2        165\n",
              "4  2020-05-01T00:02:15.000+12:00                 1        106"
            ]
          },
          "metadata": {
            "tags": []
          },
          "execution_count": 5
        }
      ]
    },
    {
      "cell_type": "code",
      "metadata": {
        "id": "Ts9wUVXLUAzc",
        "colab": {
          "base_uri": "https://localhost:8080/",
          "height": 407
        },
        "outputId": "8ec187dd-2f68-4918-ea84-eda743ad5496"
      },
      "source": [
        "df  # dataset exploration"
      ],
      "execution_count": null,
      "outputs": [
        {
          "output_type": "execute_result",
          "data": {
            "text/html": [
              "<div>\n",
              "<style scoped>\n",
              "    .dataframe tbody tr th:only-of-type {\n",
              "        vertical-align: middle;\n",
              "    }\n",
              "\n",
              "    .dataframe tbody tr th {\n",
              "        vertical-align: top;\n",
              "    }\n",
              "\n",
              "    .dataframe thead th {\n",
              "        text-align: right;\n",
              "    }\n",
              "</style>\n",
              "<table border=\"1\" class=\"dataframe\">\n",
              "  <thead>\n",
              "    <tr style=\"text-align: right;\">\n",
              "      <th></th>\n",
              "      <th>LastUpdated</th>\n",
              "      <th>SystemCodeNumber</th>\n",
              "      <th>Occupancy</th>\n",
              "    </tr>\n",
              "  </thead>\n",
              "  <tbody>\n",
              "    <tr>\n",
              "      <th>0</th>\n",
              "      <td>2020-05-01T00:00:15.000+12:00</td>\n",
              "      <td>1</td>\n",
              "      <td>102</td>\n",
              "    </tr>\n",
              "    <tr>\n",
              "      <th>1</th>\n",
              "      <td>2020-05-01T00:00:15.000+12:00</td>\n",
              "      <td>2</td>\n",
              "      <td>188</td>\n",
              "    </tr>\n",
              "    <tr>\n",
              "      <th>2</th>\n",
              "      <td>2020-05-01T00:01:15.000+12:00</td>\n",
              "      <td>1</td>\n",
              "      <td>108</td>\n",
              "    </tr>\n",
              "    <tr>\n",
              "      <th>3</th>\n",
              "      <td>2020-05-01T00:01:15.000+12:00</td>\n",
              "      <td>2</td>\n",
              "      <td>165</td>\n",
              "    </tr>\n",
              "    <tr>\n",
              "      <th>4</th>\n",
              "      <td>2020-05-01T00:02:15.000+12:00</td>\n",
              "      <td>1</td>\n",
              "      <td>106</td>\n",
              "    </tr>\n",
              "    <tr>\n",
              "      <th>...</th>\n",
              "      <td>...</td>\n",
              "      <td>...</td>\n",
              "      <td>...</td>\n",
              "    </tr>\n",
              "    <tr>\n",
              "      <th>243099</th>\n",
              "      <td>2020-07-31T23:55:15.000+12:00</td>\n",
              "      <td>1</td>\n",
              "      <td>101</td>\n",
              "    </tr>\n",
              "    <tr>\n",
              "      <th>243100</th>\n",
              "      <td>2020-07-31T23:56:15.000+12:00</td>\n",
              "      <td>1</td>\n",
              "      <td>101</td>\n",
              "    </tr>\n",
              "    <tr>\n",
              "      <th>243101</th>\n",
              "      <td>2020-07-31T23:57:15.000+12:00</td>\n",
              "      <td>1</td>\n",
              "      <td>111</td>\n",
              "    </tr>\n",
              "    <tr>\n",
              "      <th>243102</th>\n",
              "      <td>2020-07-31T23:58:15.000+12:00</td>\n",
              "      <td>1</td>\n",
              "      <td>100</td>\n",
              "    </tr>\n",
              "    <tr>\n",
              "      <th>243103</th>\n",
              "      <td>2020-07-31T23:59:15.000+12:00</td>\n",
              "      <td>1</td>\n",
              "      <td>104</td>\n",
              "    </tr>\n",
              "  </tbody>\n",
              "</table>\n",
              "<p>243104 rows × 3 columns</p>\n",
              "</div>"
            ],
            "text/plain": [
              "                          LastUpdated  SystemCodeNumber  Occupancy\n",
              "0       2020-05-01T00:00:15.000+12:00                 1        102\n",
              "1       2020-05-01T00:00:15.000+12:00                 2        188\n",
              "2       2020-05-01T00:01:15.000+12:00                 1        108\n",
              "3       2020-05-01T00:01:15.000+12:00                 2        165\n",
              "4       2020-05-01T00:02:15.000+12:00                 1        106\n",
              "...                               ...               ...        ...\n",
              "243099  2020-07-31T23:55:15.000+12:00                 1        101\n",
              "243100  2020-07-31T23:56:15.000+12:00                 1        101\n",
              "243101  2020-07-31T23:57:15.000+12:00                 1        111\n",
              "243102  2020-07-31T23:58:15.000+12:00                 1        100\n",
              "243103  2020-07-31T23:59:15.000+12:00                 1        104\n",
              "\n",
              "[243104 rows x 3 columns]"
            ]
          },
          "metadata": {
            "tags": []
          },
          "execution_count": 6
        }
      ]
    },
    {
      "cell_type": "markdown",
      "metadata": {
        "id": "beWLeQ4aXY2w"
      },
      "source": [
        "Dataset infos:\r\n",
        "- Collected from 01/05/2020 to 31/07/2020\r\n",
        "\r\n",
        "- 2 different carparks (CP)\r\n",
        "\r\n",
        "- Update time inverval is 1 minute\r\n",
        "\r\n",
        "- Total no. of records: 336,990\r\n",
        "\r\n",
        "\r\n",
        "**Some attribute information: **\r\n",
        "\r\n",
        "SystemCodeNumber: carpark ID\r\n",
        "\r\n",
        "Occupancy: CP occupancy\r\n",
        "\r\n",
        "LastUpdated: record update time\r\n"
      ]
    },
    {
      "cell_type": "code",
      "metadata": {
        "id": "QL652GmqCmHz",
        "colab": {
          "base_uri": "https://localhost:8080/"
        },
        "outputId": "f04c2b1c-04c1-40fc-b133-a0a181123f4e"
      },
      "source": [
        "df.LastUpdated.head()"
      ],
      "execution_count": null,
      "outputs": [
        {
          "output_type": "execute_result",
          "data": {
            "text/plain": [
              "0    2020-05-01T00:00:15.000+12:00\n",
              "1    2020-05-01T00:00:15.000+12:00\n",
              "2    2020-05-01T00:01:15.000+12:00\n",
              "3    2020-05-01T00:01:15.000+12:00\n",
              "4    2020-05-01T00:02:15.000+12:00\n",
              "Name: LastUpdated, dtype: object"
            ]
          },
          "metadata": {
            "tags": []
          },
          "execution_count": 7
        }
      ]
    },
    {
      "cell_type": "markdown",
      "metadata": {
        "id": "co4LJrZ2IM64"
      },
      "source": [
        "Convert date format from object type to datetime64 type to apply training and prediction"
      ]
    },
    {
      "cell_type": "code",
      "metadata": {
        "id": "eU3UC8JX-gsK"
      },
      "source": [
        "# filter to eliminate one timezone (which has less data) for to_datetime() funtion use\r\n",
        "#df[df['LastUpdated'].str.contains('+12:00', regex=False)]"
      ],
      "execution_count": null,
      "outputs": []
    },
    {
      "cell_type": "code",
      "metadata": {
        "id": "0KsJkodJ37qB"
      },
      "source": [
        "# --- just run with the a half amount of data (121552 of 243104 records in total) \r\n",
        "#     --> saving training time, but the result still better than the DNN model -------\r\n",
        "df = df[0:121551] # try with the first 121,552 records for saving training time"
      ],
      "execution_count": null,
      "outputs": []
    },
    {
      "cell_type": "code",
      "metadata": {
        "id": "1nlixusbZhAK",
        "colab": {
          "base_uri": "https://localhost:8080/"
        },
        "outputId": "cf6c7c32-3872-47b5-c456-49d8551bdbe4"
      },
      "source": [
        "# add column 'date' by converting column 'LastUpdated' into datetime64 format\r\n",
        "df['date'] = pd.to_datetime(df['LastUpdated'], infer_datetime_format=True)  # Note: to_datetime() cannot convert if there are 2 different timezones (e.g. +13:00 and +12:00) \r\n",
        "                                                                                    #in the dataset --> filter before to select the +12:00\r\n",
        "\r\n",
        "# use this one for faster process if the 'LastUpdated' is already in Timestamp (datetime) format\r\n",
        "#df['date'] = df['LastUpdated']"
      ],
      "execution_count": null,
      "outputs": [
        {
          "output_type": "stream",
          "text": [
            "/usr/local/lib/python3.7/dist-packages/ipykernel_launcher.py:2: SettingWithCopyWarning: \n",
            "A value is trying to be set on a copy of a slice from a DataFrame.\n",
            "Try using .loc[row_indexer,col_indexer] = value instead\n",
            "\n",
            "See the caveats in the documentation: https://pandas.pydata.org/pandas-docs/stable/user_guide/indexing.html#returning-a-view-versus-a-copy\n",
            "  \n"
          ],
          "name": "stderr"
        }
      ]
    },
    {
      "cell_type": "code",
      "metadata": {
        "id": "PLidtkx19LWd",
        "colab": {
          "base_uri": "https://localhost:8080/"
        },
        "outputId": "31f29f5b-8f34-4be4-c079-e7e5047a23b1"
      },
      "source": [
        "df.info()"
      ],
      "execution_count": null,
      "outputs": [
        {
          "output_type": "stream",
          "text": [
            "<class 'pandas.core.frame.DataFrame'>\n",
            "RangeIndex: 121551 entries, 0 to 121550\n",
            "Data columns (total 4 columns):\n",
            " #   Column            Non-Null Count   Dtype                                \n",
            "---  ------            --------------   -----                                \n",
            " 0   LastUpdated       121551 non-null  object                               \n",
            " 1   SystemCodeNumber  121551 non-null  int64                                \n",
            " 2   Occupancy         121551 non-null  int64                                \n",
            " 3   date              121551 non-null  datetime64[ns, pytz.FixedOffset(720)]\n",
            "dtypes: datetime64[ns, pytz.FixedOffset(720)](1), int64(2), object(1)\n",
            "memory usage: 3.7+ MB\n"
          ],
          "name": "stdout"
        }
      ]
    },
    {
      "cell_type": "code",
      "metadata": {
        "id": "GEv9Qipb6Ivb",
        "colab": {
          "base_uri": "https://localhost:8080/"
        },
        "outputId": "45531248-af92-4c10-d189-745b3aa7f005"
      },
      "source": [
        "df.date.head()"
      ],
      "execution_count": null,
      "outputs": [
        {
          "output_type": "execute_result",
          "data": {
            "text/plain": [
              "0   2020-05-01 00:00:15+12:00\n",
              "1   2020-05-01 00:00:15+12:00\n",
              "2   2020-05-01 00:01:15+12:00\n",
              "3   2020-05-01 00:01:15+12:00\n",
              "4   2020-05-01 00:02:15+12:00\n",
              "Name: date, dtype: datetime64[ns, pytz.FixedOffset(720)]"
            ]
          },
          "metadata": {
            "tags": []
          },
          "execution_count": 12
        }
      ]
    },
    {
      "cell_type": "markdown",
      "metadata": {
        "id": "4cwxbKkZ9612"
      },
      "source": [
        "**------------ Select a specific CP to do prediction ----------**\r\n"
      ]
    },
    {
      "cell_type": "code",
      "metadata": {
        "id": "X8YdJTnCVqhZ"
      },
      "source": [
        "#df.SystemCodeNumber.head()"
      ],
      "execution_count": null,
      "outputs": []
    },
    {
      "cell_type": "code",
      "metadata": {
        "id": "_L9QRKnsXsSC",
        "colab": {
          "base_uri": "https://localhost:8080/"
        },
        "outputId": "0ee0165c-8225-4df6-c130-a11a474df9c8"
      },
      "source": [
        "# convert CP_ID column from Int to String\r\n",
        "df['SystemCodeNumber'] = df['SystemCodeNumber'].apply(str)   # https://datatofish.com/integers-to-strings-dataframe/"
      ],
      "execution_count": null,
      "outputs": [
        {
          "output_type": "stream",
          "text": [
            "/usr/local/lib/python3.7/dist-packages/ipykernel_launcher.py:2: SettingWithCopyWarning: \n",
            "A value is trying to be set on a copy of a slice from a DataFrame.\n",
            "Try using .loc[row_indexer,col_indexer] = value instead\n",
            "\n",
            "See the caveats in the documentation: https://pandas.pydata.org/pandas-docs/stable/user_guide/indexing.html#returning-a-view-versus-a-copy\n",
            "  \n"
          ],
          "name": "stderr"
        }
      ]
    },
    {
      "cell_type": "code",
      "metadata": {
        "id": "5I4IO4WA96Px",
        "colab": {
          "base_uri": "https://localhost:8080/",
          "height": 407
        },
        "outputId": "6cf6aa02-6d27-4113-b822-ba22ccf70691"
      },
      "source": [
        "# 2 CPs: 1 and 2 \r\n",
        "\r\n",
        "# Select the target CP \r\n",
        "df_cp_filtered = df[df['SystemCodeNumber'].str.match('1')]\r\n",
        "\r\n",
        "df_cp_filtered"
      ],
      "execution_count": null,
      "outputs": [
        {
          "output_type": "execute_result",
          "data": {
            "text/html": [
              "<div>\n",
              "<style scoped>\n",
              "    .dataframe tbody tr th:only-of-type {\n",
              "        vertical-align: middle;\n",
              "    }\n",
              "\n",
              "    .dataframe tbody tr th {\n",
              "        vertical-align: top;\n",
              "    }\n",
              "\n",
              "    .dataframe thead th {\n",
              "        text-align: right;\n",
              "    }\n",
              "</style>\n",
              "<table border=\"1\" class=\"dataframe\">\n",
              "  <thead>\n",
              "    <tr style=\"text-align: right;\">\n",
              "      <th></th>\n",
              "      <th>LastUpdated</th>\n",
              "      <th>SystemCodeNumber</th>\n",
              "      <th>Occupancy</th>\n",
              "      <th>date</th>\n",
              "    </tr>\n",
              "  </thead>\n",
              "  <tbody>\n",
              "    <tr>\n",
              "      <th>0</th>\n",
              "      <td>2020-05-01T00:00:15.000+12:00</td>\n",
              "      <td>1</td>\n",
              "      <td>102</td>\n",
              "      <td>2020-05-01 00:00:15+12:00</td>\n",
              "    </tr>\n",
              "    <tr>\n",
              "      <th>2</th>\n",
              "      <td>2020-05-01T00:01:15.000+12:00</td>\n",
              "      <td>1</td>\n",
              "      <td>108</td>\n",
              "      <td>2020-05-01 00:01:15+12:00</td>\n",
              "    </tr>\n",
              "    <tr>\n",
              "      <th>4</th>\n",
              "      <td>2020-05-01T00:02:15.000+12:00</td>\n",
              "      <td>1</td>\n",
              "      <td>106</td>\n",
              "      <td>2020-05-01 00:02:15+12:00</td>\n",
              "    </tr>\n",
              "    <tr>\n",
              "      <th>6</th>\n",
              "      <td>2020-05-01T00:03:15.000+12:00</td>\n",
              "      <td>1</td>\n",
              "      <td>93</td>\n",
              "      <td>2020-05-01 00:03:15+12:00</td>\n",
              "    </tr>\n",
              "    <tr>\n",
              "      <th>8</th>\n",
              "      <td>2020-05-01T00:04:15.000+12:00</td>\n",
              "      <td>1</td>\n",
              "      <td>117</td>\n",
              "      <td>2020-05-01 00:04:15+12:00</td>\n",
              "    </tr>\n",
              "    <tr>\n",
              "      <th>...</th>\n",
              "      <td>...</td>\n",
              "      <td>...</td>\n",
              "      <td>...</td>\n",
              "      <td>...</td>\n",
              "    </tr>\n",
              "    <tr>\n",
              "      <th>121542</th>\n",
              "      <td>2020-06-14T02:13:15.000+12:00</td>\n",
              "      <td>1</td>\n",
              "      <td>110</td>\n",
              "      <td>2020-06-14 02:13:15+12:00</td>\n",
              "    </tr>\n",
              "    <tr>\n",
              "      <th>121544</th>\n",
              "      <td>2020-06-14T02:14:15.000+12:00</td>\n",
              "      <td>1</td>\n",
              "      <td>101</td>\n",
              "      <td>2020-06-14 02:14:15+12:00</td>\n",
              "    </tr>\n",
              "    <tr>\n",
              "      <th>121546</th>\n",
              "      <td>2020-06-14T02:15:15.000+12:00</td>\n",
              "      <td>1</td>\n",
              "      <td>108</td>\n",
              "      <td>2020-06-14 02:15:15+12:00</td>\n",
              "    </tr>\n",
              "    <tr>\n",
              "      <th>121548</th>\n",
              "      <td>2020-06-14T02:16:15.000+12:00</td>\n",
              "      <td>1</td>\n",
              "      <td>102</td>\n",
              "      <td>2020-06-14 02:16:15+12:00</td>\n",
              "    </tr>\n",
              "    <tr>\n",
              "      <th>121550</th>\n",
              "      <td>2020-06-14T02:17:15.000+12:00</td>\n",
              "      <td>1</td>\n",
              "      <td>105</td>\n",
              "      <td>2020-06-14 02:17:15+12:00</td>\n",
              "    </tr>\n",
              "  </tbody>\n",
              "</table>\n",
              "<p>63472 rows × 4 columns</p>\n",
              "</div>"
            ],
            "text/plain": [
              "                          LastUpdated  ...                      date\n",
              "0       2020-05-01T00:00:15.000+12:00  ... 2020-05-01 00:00:15+12:00\n",
              "2       2020-05-01T00:01:15.000+12:00  ... 2020-05-01 00:01:15+12:00\n",
              "4       2020-05-01T00:02:15.000+12:00  ... 2020-05-01 00:02:15+12:00\n",
              "6       2020-05-01T00:03:15.000+12:00  ... 2020-05-01 00:03:15+12:00\n",
              "8       2020-05-01T00:04:15.000+12:00  ... 2020-05-01 00:04:15+12:00\n",
              "...                               ...  ...                       ...\n",
              "121542  2020-06-14T02:13:15.000+12:00  ... 2020-06-14 02:13:15+12:00\n",
              "121544  2020-06-14T02:14:15.000+12:00  ... 2020-06-14 02:14:15+12:00\n",
              "121546  2020-06-14T02:15:15.000+12:00  ... 2020-06-14 02:15:15+12:00\n",
              "121548  2020-06-14T02:16:15.000+12:00  ... 2020-06-14 02:16:15+12:00\n",
              "121550  2020-06-14T02:17:15.000+12:00  ... 2020-06-14 02:17:15+12:00\n",
              "\n",
              "[63472 rows x 4 columns]"
            ]
          },
          "metadata": {
            "tags": []
          },
          "execution_count": 15
        }
      ]
    },
    {
      "cell_type": "code",
      "metadata": {
        "id": "IfC40v-uBj5l"
      },
      "source": [
        "# df_cp_filtered"
      ],
      "execution_count": null,
      "outputs": []
    },
    {
      "cell_type": "code",
      "metadata": {
        "id": "eHhheaBxBreF",
        "colab": {
          "base_uri": "https://localhost:8080/"
        },
        "outputId": "b2639f3a-5c53-4ad6-cf3c-0aed85370cf4"
      },
      "source": [
        "df_cp_filtered.info()"
      ],
      "execution_count": null,
      "outputs": [
        {
          "output_type": "stream",
          "text": [
            "<class 'pandas.core.frame.DataFrame'>\n",
            "Int64Index: 63472 entries, 0 to 121550\n",
            "Data columns (total 4 columns):\n",
            " #   Column            Non-Null Count  Dtype                                \n",
            "---  ------            --------------  -----                                \n",
            " 0   LastUpdated       63472 non-null  object                               \n",
            " 1   SystemCodeNumber  63472 non-null  object                               \n",
            " 2   Occupancy         63472 non-null  int64                                \n",
            " 3   date              63472 non-null  datetime64[ns, pytz.FixedOffset(720)]\n",
            "dtypes: datetime64[ns, pytz.FixedOffset(720)](1), int64(1), object(2)\n",
            "memory usage: 2.4+ MB\n"
          ],
          "name": "stdout"
        }
      ]
    },
    {
      "cell_type": "markdown",
      "metadata": {
        "id": "l-XpIJdZBkVa"
      },
      "source": [
        "Set index column and select features"
      ]
    },
    {
      "cell_type": "code",
      "metadata": {
        "id": "tCOgbS6walSV",
        "colab": {
          "base_uri": "https://localhost:8080/",
          "height": 321
        },
        "outputId": "6ea17c46-5011-413e-ccf7-3fb5cb88458c"
      },
      "source": [
        "# Set index (use date column) and select features and do plotting for viewing\r\n",
        "df_cp_filtered.set_index('date') [['Occupancy']].plot(subplots=True)  # 2 steps: select column works as index,  and plot selected column (not the index column)\r\n"
      ],
      "execution_count": null,
      "outputs": [
        {
          "output_type": "execute_result",
          "data": {
            "text/plain": [
              "array([<matplotlib.axes._subplots.AxesSubplot object at 0x7fa0a35bf150>],\n",
              "      dtype=object)"
            ]
          },
          "metadata": {
            "tags": []
          },
          "execution_count": 18
        },
        {
          "output_type": "display_data",
          "data": {
            "image/png": "[encoded data removed]",
            "text/plain": [
              "<Figure size 432x288 with 1 Axes>"
            ]
          },
          "metadata": {
            "tags": [],
            "needs_background": "light"
          }
        }
      ]
    },
    {
      "cell_type": "markdown",
      "metadata": {
        "id": "nxIRe3Wf1liZ"
      },
      "source": [
        "# Data quality checking and pre-processing"
      ]
    },
    {
      "cell_type": "code",
      "metadata": {
        "id": "q-U_rPhu0sdh",
        "colab": {
          "base_uri": "https://localhost:8080/",
          "height": 407
        },
        "outputId": "7d122a4b-e8ac-4558-e374-808cf7079e00"
      },
      "source": [
        "# pre-processing data --> drop the faulted records\r\n",
        "df_cp_filtered.query('Occupancy < 80')  "
      ],
      "execution_count": null,
      "outputs": [
        {
          "output_type": "execute_result",
          "data": {
            "text/html": [
              "<div>\n",
              "<style scoped>\n",
              "    .dataframe tbody tr th:only-of-type {\n",
              "        vertical-align: middle;\n",
              "    }\n",
              "\n",
              "    .dataframe tbody tr th {\n",
              "        vertical-align: top;\n",
              "    }\n",
              "\n",
              "    .dataframe thead th {\n",
              "        text-align: right;\n",
              "    }\n",
              "</style>\n",
              "<table border=\"1\" class=\"dataframe\">\n",
              "  <thead>\n",
              "    <tr style=\"text-align: right;\">\n",
              "      <th></th>\n",
              "      <th>LastUpdated</th>\n",
              "      <th>SystemCodeNumber</th>\n",
              "      <th>Occupancy</th>\n",
              "      <th>date</th>\n",
              "    </tr>\n",
              "  </thead>\n",
              "  <tbody>\n",
              "    <tr>\n",
              "      <th>6196</th>\n",
              "      <td>2020-05-03T03:53:15.000+12:00</td>\n",
              "      <td>1</td>\n",
              "      <td>79</td>\n",
              "      <td>2020-05-03 03:53:15+12:00</td>\n",
              "    </tr>\n",
              "    <tr>\n",
              "      <th>38018</th>\n",
              "      <td>2020-05-14T06:00:15.000+12:00</td>\n",
              "      <td>1</td>\n",
              "      <td>35</td>\n",
              "      <td>2020-05-14 06:00:15+12:00</td>\n",
              "    </tr>\n",
              "    <tr>\n",
              "      <th>46030</th>\n",
              "      <td>2020-05-17T00:57:15.000+12:00</td>\n",
              "      <td>1</td>\n",
              "      <td>63</td>\n",
              "      <td>2020-05-17 00:57:15+12:00</td>\n",
              "    </tr>\n",
              "    <tr>\n",
              "      <th>46032</th>\n",
              "      <td>2020-05-17T00:58:15.000+12:00</td>\n",
              "      <td>1</td>\n",
              "      <td>64</td>\n",
              "      <td>2020-05-17 00:58:15+12:00</td>\n",
              "    </tr>\n",
              "    <tr>\n",
              "      <th>46034</th>\n",
              "      <td>2020-05-17T00:59:15.000+12:00</td>\n",
              "      <td>1</td>\n",
              "      <td>66</td>\n",
              "      <td>2020-05-17 00:59:15+12:00</td>\n",
              "    </tr>\n",
              "    <tr>\n",
              "      <th>...</th>\n",
              "      <td>...</td>\n",
              "      <td>...</td>\n",
              "      <td>...</td>\n",
              "      <td>...</td>\n",
              "    </tr>\n",
              "    <tr>\n",
              "      <th>112726</th>\n",
              "      <td>2020-06-11T00:32:15.000+12:00</td>\n",
              "      <td>1</td>\n",
              "      <td>38</td>\n",
              "      <td>2020-06-11 00:32:15+12:00</td>\n",
              "    </tr>\n",
              "    <tr>\n",
              "      <th>112727</th>\n",
              "      <td>2020-06-11T00:33:15.000+12:00</td>\n",
              "      <td>1</td>\n",
              "      <td>46</td>\n",
              "      <td>2020-06-11 00:33:15+12:00</td>\n",
              "    </tr>\n",
              "    <tr>\n",
              "      <th>112728</th>\n",
              "      <td>2020-06-11T00:34:15.000+12:00</td>\n",
              "      <td>1</td>\n",
              "      <td>35</td>\n",
              "      <td>2020-06-11 00:34:15+12:00</td>\n",
              "    </tr>\n",
              "    <tr>\n",
              "      <th>112729</th>\n",
              "      <td>2020-06-11T00:35:15.000+12:00</td>\n",
              "      <td>1</td>\n",
              "      <td>40</td>\n",
              "      <td>2020-06-11 00:35:15+12:00</td>\n",
              "    </tr>\n",
              "    <tr>\n",
              "      <th>112730</th>\n",
              "      <td>2020-06-11T00:36:15.000+12:00</td>\n",
              "      <td>1</td>\n",
              "      <td>41</td>\n",
              "      <td>2020-06-11 00:36:15+12:00</td>\n",
              "    </tr>\n",
              "  </tbody>\n",
              "</table>\n",
              "<p>196 rows × 4 columns</p>\n",
              "</div>"
            ],
            "text/plain": [
              "                          LastUpdated  ...                      date\n",
              "6196    2020-05-03T03:53:15.000+12:00  ... 2020-05-03 03:53:15+12:00\n",
              "38018   2020-05-14T06:00:15.000+12:00  ... 2020-05-14 06:00:15+12:00\n",
              "46030   2020-05-17T00:57:15.000+12:00  ... 2020-05-17 00:57:15+12:00\n",
              "46032   2020-05-17T00:58:15.000+12:00  ... 2020-05-17 00:58:15+12:00\n",
              "46034   2020-05-17T00:59:15.000+12:00  ... 2020-05-17 00:59:15+12:00\n",
              "...                               ...  ...                       ...\n",
              "112726  2020-06-11T00:32:15.000+12:00  ... 2020-06-11 00:32:15+12:00\n",
              "112727  2020-06-11T00:33:15.000+12:00  ... 2020-06-11 00:33:15+12:00\n",
              "112728  2020-06-11T00:34:15.000+12:00  ... 2020-06-11 00:34:15+12:00\n",
              "112729  2020-06-11T00:35:15.000+12:00  ... 2020-06-11 00:35:15+12:00\n",
              "112730  2020-06-11T00:36:15.000+12:00  ... 2020-06-11 00:36:15+12:00\n",
              "\n",
              "[196 rows x 4 columns]"
            ]
          },
          "metadata": {
            "tags": []
          },
          "execution_count": 19
        }
      ]
    },
    {
      "cell_type": "code",
      "metadata": {
        "id": "SBw0Nyp21Epf",
        "colab": {
          "base_uri": "https://localhost:8080/",
          "height": 1000
        },
        "outputId": "8e9832c6-b8df-4bc3-fafc-ecec92f91161"
      },
      "source": [
        "df_cp_filtered.query('Occupancy > 125')  "
      ],
      "execution_count": null,
      "outputs": [
        {
          "output_type": "execute_result",
          "data": {
            "text/html": [
              "<div>\n",
              "<style scoped>\n",
              "    .dataframe tbody tr th:only-of-type {\n",
              "        vertical-align: middle;\n",
              "    }\n",
              "\n",
              "    .dataframe tbody tr th {\n",
              "        vertical-align: top;\n",
              "    }\n",
              "\n",
              "    .dataframe thead th {\n",
              "        text-align: right;\n",
              "    }\n",
              "</style>\n",
              "<table border=\"1\" class=\"dataframe\">\n",
              "  <thead>\n",
              "    <tr style=\"text-align: right;\">\n",
              "      <th></th>\n",
              "      <th>LastUpdated</th>\n",
              "      <th>SystemCodeNumber</th>\n",
              "      <th>Occupancy</th>\n",
              "      <th>date</th>\n",
              "    </tr>\n",
              "  </thead>\n",
              "  <tbody>\n",
              "    <tr>\n",
              "      <th>475</th>\n",
              "      <td>2020-05-01T03:57:15.000+12:00</td>\n",
              "      <td>1</td>\n",
              "      <td>127</td>\n",
              "      <td>2020-05-01 03:57:15+12:00</td>\n",
              "    </tr>\n",
              "    <tr>\n",
              "      <th>2436</th>\n",
              "      <td>2020-05-01T20:18:15.000+12:00</td>\n",
              "      <td>1</td>\n",
              "      <td>126</td>\n",
              "      <td>2020-05-01 20:18:15+12:00</td>\n",
              "    </tr>\n",
              "    <tr>\n",
              "      <th>5822</th>\n",
              "      <td>2020-05-03T00:46:15.000+12:00</td>\n",
              "      <td>1</td>\n",
              "      <td>126</td>\n",
              "      <td>2020-05-03 00:46:15+12:00</td>\n",
              "    </tr>\n",
              "    <tr>\n",
              "      <th>12764</th>\n",
              "      <td>2020-05-05T10:39:15.000+12:00</td>\n",
              "      <td>1</td>\n",
              "      <td>130</td>\n",
              "      <td>2020-05-05 10:39:15+12:00</td>\n",
              "    </tr>\n",
              "    <tr>\n",
              "      <th>13394</th>\n",
              "      <td>2020-05-05T15:54:15.000+12:00</td>\n",
              "      <td>1</td>\n",
              "      <td>129</td>\n",
              "      <td>2020-05-05 15:54:15+12:00</td>\n",
              "    </tr>\n",
              "    <tr>\n",
              "      <th>13912</th>\n",
              "      <td>2020-05-05T20:13:15.000+12:00</td>\n",
              "      <td>1</td>\n",
              "      <td>126</td>\n",
              "      <td>2020-05-05 20:13:15+12:00</td>\n",
              "    </tr>\n",
              "    <tr>\n",
              "      <th>15648</th>\n",
              "      <td>2020-05-06T10:41:15.000+12:00</td>\n",
              "      <td>1</td>\n",
              "      <td>126</td>\n",
              "      <td>2020-05-06 10:41:15+12:00</td>\n",
              "    </tr>\n",
              "    <tr>\n",
              "      <th>15945</th>\n",
              "      <td>2020-05-06T13:09:15.000+12:00</td>\n",
              "      <td>1</td>\n",
              "      <td>127</td>\n",
              "      <td>2020-05-06 13:09:15+12:00</td>\n",
              "    </tr>\n",
              "    <tr>\n",
              "      <th>16096</th>\n",
              "      <td>2020-05-06T14:25:15.000+12:00</td>\n",
              "      <td>1</td>\n",
              "      <td>126</td>\n",
              "      <td>2020-05-06 14:25:15+12:00</td>\n",
              "    </tr>\n",
              "    <tr>\n",
              "      <th>19922</th>\n",
              "      <td>2020-05-07T22:25:15.000+12:00</td>\n",
              "      <td>1</td>\n",
              "      <td>126</td>\n",
              "      <td>2020-05-07 22:25:15+12:00</td>\n",
              "    </tr>\n",
              "    <tr>\n",
              "      <th>22374</th>\n",
              "      <td>2020-05-08T18:51:15.000+12:00</td>\n",
              "      <td>1</td>\n",
              "      <td>126</td>\n",
              "      <td>2020-05-08 18:51:15+12:00</td>\n",
              "    </tr>\n",
              "    <tr>\n",
              "      <th>25881</th>\n",
              "      <td>2020-05-10T00:26:15.000+12:00</td>\n",
              "      <td>1</td>\n",
              "      <td>127</td>\n",
              "      <td>2020-05-10 00:26:15+12:00</td>\n",
              "    </tr>\n",
              "    <tr>\n",
              "      <th>26493</th>\n",
              "      <td>2020-05-10T05:32:15.000+12:00</td>\n",
              "      <td>1</td>\n",
              "      <td>130</td>\n",
              "      <td>2020-05-10 05:32:15+12:00</td>\n",
              "    </tr>\n",
              "    <tr>\n",
              "      <th>26841</th>\n",
              "      <td>2020-05-10T08:26:15.000+12:00</td>\n",
              "      <td>1</td>\n",
              "      <td>126</td>\n",
              "      <td>2020-05-10 08:26:15+12:00</td>\n",
              "    </tr>\n",
              "    <tr>\n",
              "      <th>26978</th>\n",
              "      <td>2020-05-10T09:34:15.000+12:00</td>\n",
              "      <td>1</td>\n",
              "      <td>127</td>\n",
              "      <td>2020-05-10 09:34:15+12:00</td>\n",
              "    </tr>\n",
              "    <tr>\n",
              "      <th>33582</th>\n",
              "      <td>2020-05-12T16:48:15.000+12:00</td>\n",
              "      <td>1</td>\n",
              "      <td>127</td>\n",
              "      <td>2020-05-12 16:48:15+12:00</td>\n",
              "    </tr>\n",
              "    <tr>\n",
              "      <th>35030</th>\n",
              "      <td>2020-05-13T04:52:15.000+12:00</td>\n",
              "      <td>1</td>\n",
              "      <td>126</td>\n",
              "      <td>2020-05-13 04:52:15+12:00</td>\n",
              "    </tr>\n",
              "    <tr>\n",
              "      <th>35766</th>\n",
              "      <td>2020-05-13T11:00:15.000+12:00</td>\n",
              "      <td>1</td>\n",
              "      <td>129</td>\n",
              "      <td>2020-05-13 11:00:15+12:00</td>\n",
              "    </tr>\n",
              "    <tr>\n",
              "      <th>35780</th>\n",
              "      <td>2020-05-13T11:07:15.000+12:00</td>\n",
              "      <td>1</td>\n",
              "      <td>126</td>\n",
              "      <td>2020-05-13 11:07:15+12:00</td>\n",
              "    </tr>\n",
              "    <tr>\n",
              "      <th>35958</th>\n",
              "      <td>2020-05-13T12:36:15.000+12:00</td>\n",
              "      <td>1</td>\n",
              "      <td>134</td>\n",
              "      <td>2020-05-13 12:36:15+12:00</td>\n",
              "    </tr>\n",
              "    <tr>\n",
              "      <th>37667</th>\n",
              "      <td>2020-05-14T02:50:15.000+12:00</td>\n",
              "      <td>1</td>\n",
              "      <td>128</td>\n",
              "      <td>2020-05-14 02:50:15+12:00</td>\n",
              "    </tr>\n",
              "    <tr>\n",
              "      <th>40285</th>\n",
              "      <td>2020-05-15T00:54:15.000+12:00</td>\n",
              "      <td>1</td>\n",
              "      <td>128</td>\n",
              "      <td>2020-05-15 00:54:15+12:00</td>\n",
              "    </tr>\n",
              "    <tr>\n",
              "      <th>43851</th>\n",
              "      <td>2020-05-16T06:37:15.000+12:00</td>\n",
              "      <td>1</td>\n",
              "      <td>128</td>\n",
              "      <td>2020-05-16 06:37:15+12:00</td>\n",
              "    </tr>\n",
              "    <tr>\n",
              "      <th>44340</th>\n",
              "      <td>2020-05-16T10:41:15.000+12:00</td>\n",
              "      <td>1</td>\n",
              "      <td>130</td>\n",
              "      <td>2020-05-16 10:41:15+12:00</td>\n",
              "    </tr>\n",
              "    <tr>\n",
              "      <th>47356</th>\n",
              "      <td>2020-05-17T12:00:15.000+12:00</td>\n",
              "      <td>1</td>\n",
              "      <td>126</td>\n",
              "      <td>2020-05-17 12:00:15+12:00</td>\n",
              "    </tr>\n",
              "    <tr>\n",
              "      <th>48696</th>\n",
              "      <td>2020-05-17T23:10:15.000+12:00</td>\n",
              "      <td>1</td>\n",
              "      <td>179</td>\n",
              "      <td>2020-05-17 23:10:15+12:00</td>\n",
              "    </tr>\n",
              "    <tr>\n",
              "      <th>49602</th>\n",
              "      <td>2020-05-18T06:43:15.000+12:00</td>\n",
              "      <td>1</td>\n",
              "      <td>126</td>\n",
              "      <td>2020-05-18 06:43:15+12:00</td>\n",
              "    </tr>\n",
              "    <tr>\n",
              "      <th>49732</th>\n",
              "      <td>2020-05-18T07:48:15.000+12:00</td>\n",
              "      <td>1</td>\n",
              "      <td>127</td>\n",
              "      <td>2020-05-18 07:48:15+12:00</td>\n",
              "    </tr>\n",
              "    <tr>\n",
              "      <th>51222</th>\n",
              "      <td>2020-05-18T20:13:15.000+12:00</td>\n",
              "      <td>1</td>\n",
              "      <td>126</td>\n",
              "      <td>2020-05-18 20:13:15+12:00</td>\n",
              "    </tr>\n",
              "    <tr>\n",
              "      <th>51802</th>\n",
              "      <td>2020-05-19T01:03:15.000+12:00</td>\n",
              "      <td>1</td>\n",
              "      <td>126</td>\n",
              "      <td>2020-05-19 01:03:15+12:00</td>\n",
              "    </tr>\n",
              "    <tr>\n",
              "      <th>54405</th>\n",
              "      <td>2020-05-19T22:45:15.000+12:00</td>\n",
              "      <td>1</td>\n",
              "      <td>126</td>\n",
              "      <td>2020-05-19 22:45:15+12:00</td>\n",
              "    </tr>\n",
              "    <tr>\n",
              "      <th>56845</th>\n",
              "      <td>2020-05-20T19:13:15.000+12:00</td>\n",
              "      <td>1</td>\n",
              "      <td>126</td>\n",
              "      <td>2020-05-20 19:13:15+12:00</td>\n",
              "    </tr>\n",
              "    <tr>\n",
              "      <th>59482</th>\n",
              "      <td>2020-05-21T17:12:15.000+12:00</td>\n",
              "      <td>1</td>\n",
              "      <td>127</td>\n",
              "      <td>2020-05-21 17:12:15+12:00</td>\n",
              "    </tr>\n",
              "    <tr>\n",
              "      <th>62668</th>\n",
              "      <td>2020-05-22T19:45:15.000+12:00</td>\n",
              "      <td>1</td>\n",
              "      <td>131</td>\n",
              "      <td>2020-05-22 19:45:15+12:00</td>\n",
              "    </tr>\n",
              "    <tr>\n",
              "      <th>63342</th>\n",
              "      <td>2020-05-23T01:22:15.000+12:00</td>\n",
              "      <td>1</td>\n",
              "      <td>126</td>\n",
              "      <td>2020-05-23 01:22:15+12:00</td>\n",
              "    </tr>\n",
              "    <tr>\n",
              "      <th>63440</th>\n",
              "      <td>2020-05-23T02:11:15.000+12:00</td>\n",
              "      <td>1</td>\n",
              "      <td>126</td>\n",
              "      <td>2020-05-23 02:11:15+12:00</td>\n",
              "    </tr>\n",
              "    <tr>\n",
              "      <th>66577</th>\n",
              "      <td>2020-05-24T04:59:15.000+12:00</td>\n",
              "      <td>1</td>\n",
              "      <td>127</td>\n",
              "      <td>2020-05-24 04:59:15+12:00</td>\n",
              "    </tr>\n",
              "    <tr>\n",
              "      <th>67791</th>\n",
              "      <td>2020-05-24T15:06:15.000+12:00</td>\n",
              "      <td>1</td>\n",
              "      <td>128</td>\n",
              "      <td>2020-05-24 15:06:15+12:00</td>\n",
              "    </tr>\n",
              "    <tr>\n",
              "      <th>68979</th>\n",
              "      <td>2020-05-25T01:00:15.000+12:00</td>\n",
              "      <td>1</td>\n",
              "      <td>128</td>\n",
              "      <td>2020-05-25 01:00:15+12:00</td>\n",
              "    </tr>\n",
              "    <tr>\n",
              "      <th>70883</th>\n",
              "      <td>2020-05-25T16:52:15.000+12:00</td>\n",
              "      <td>1</td>\n",
              "      <td>126</td>\n",
              "      <td>2020-05-25 16:52:15+12:00</td>\n",
              "    </tr>\n",
              "    <tr>\n",
              "      <th>72139</th>\n",
              "      <td>2020-05-26T03:20:15.000+12:00</td>\n",
              "      <td>1</td>\n",
              "      <td>126</td>\n",
              "      <td>2020-05-26 03:20:15+12:00</td>\n",
              "    </tr>\n",
              "    <tr>\n",
              "      <th>73294</th>\n",
              "      <td>2020-05-26T12:57:15.000+12:00</td>\n",
              "      <td>1</td>\n",
              "      <td>144</td>\n",
              "      <td>2020-05-26 12:57:15+12:00</td>\n",
              "    </tr>\n",
              "    <tr>\n",
              "      <th>73801</th>\n",
              "      <td>2020-05-26T17:11:15.000+12:00</td>\n",
              "      <td>1</td>\n",
              "      <td>127</td>\n",
              "      <td>2020-05-26 17:11:15+12:00</td>\n",
              "    </tr>\n",
              "    <tr>\n",
              "      <th>76832</th>\n",
              "      <td>2020-05-27T18:26:15.000+12:00</td>\n",
              "      <td>1</td>\n",
              "      <td>126</td>\n",
              "      <td>2020-05-27 18:26:15+12:00</td>\n",
              "    </tr>\n",
              "    <tr>\n",
              "      <th>77694</th>\n",
              "      <td>2020-05-28T01:37:15.000+12:00</td>\n",
              "      <td>1</td>\n",
              "      <td>127</td>\n",
              "      <td>2020-05-28 01:37:15+12:00</td>\n",
              "    </tr>\n",
              "    <tr>\n",
              "      <th>77821</th>\n",
              "      <td>2020-05-28T02:41:15.000+12:00</td>\n",
              "      <td>1</td>\n",
              "      <td>128</td>\n",
              "      <td>2020-05-28 02:41:15+12:00</td>\n",
              "    </tr>\n",
              "    <tr>\n",
              "      <th>79111</th>\n",
              "      <td>2020-05-28T13:36:15.000+12:00</td>\n",
              "      <td>1</td>\n",
              "      <td>130</td>\n",
              "      <td>2020-05-28 13:36:15+12:00</td>\n",
              "    </tr>\n",
              "    <tr>\n",
              "      <th>83631</th>\n",
              "      <td>2020-05-30T22:25:15.000+12:00</td>\n",
              "      <td>1</td>\n",
              "      <td>126</td>\n",
              "      <td>2020-05-30 22:25:15+12:00</td>\n",
              "    </tr>\n",
              "    <tr>\n",
              "      <th>84447</th>\n",
              "      <td>2020-05-31T12:01:15.000+12:00</td>\n",
              "      <td>1</td>\n",
              "      <td>127</td>\n",
              "      <td>2020-05-31 12:01:15+12:00</td>\n",
              "    </tr>\n",
              "    <tr>\n",
              "      <th>96975</th>\n",
              "      <td>2020-06-05T13:05:15.000+12:00</td>\n",
              "      <td>1</td>\n",
              "      <td>126</td>\n",
              "      <td>2020-06-05 13:05:15+12:00</td>\n",
              "    </tr>\n",
              "    <tr>\n",
              "      <th>97213</th>\n",
              "      <td>2020-06-05T15:04:15.000+12:00</td>\n",
              "      <td>1</td>\n",
              "      <td>126</td>\n",
              "      <td>2020-06-05 15:04:15+12:00</td>\n",
              "    </tr>\n",
              "    <tr>\n",
              "      <th>99671</th>\n",
              "      <td>2020-06-06T11:33:15.000+12:00</td>\n",
              "      <td>1</td>\n",
              "      <td>128</td>\n",
              "      <td>2020-06-06 11:33:15+12:00</td>\n",
              "    </tr>\n",
              "    <tr>\n",
              "      <th>101627</th>\n",
              "      <td>2020-06-07T03:51:15.000+12:00</td>\n",
              "      <td>1</td>\n",
              "      <td>128</td>\n",
              "      <td>2020-06-07 03:51:15+12:00</td>\n",
              "    </tr>\n",
              "    <tr>\n",
              "      <th>103858</th>\n",
              "      <td>2020-06-07T22:35:15.000+12:00</td>\n",
              "      <td>1</td>\n",
              "      <td>127</td>\n",
              "      <td>2020-06-07 22:35:15+12:00</td>\n",
              "    </tr>\n",
              "    <tr>\n",
              "      <th>106939</th>\n",
              "      <td>2020-06-09T00:15:15.000+12:00</td>\n",
              "      <td>1</td>\n",
              "      <td>127</td>\n",
              "      <td>2020-06-09 00:15:15+12:00</td>\n",
              "    </tr>\n",
              "    <tr>\n",
              "      <th>114206</th>\n",
              "      <td>2020-06-11T12:56:15.000+12:00</td>\n",
              "      <td>1</td>\n",
              "      <td>126</td>\n",
              "      <td>2020-06-11 12:56:15+12:00</td>\n",
              "    </tr>\n",
              "    <tr>\n",
              "      <th>114796</th>\n",
              "      <td>2020-06-11T17:51:15.000+12:00</td>\n",
              "      <td>1</td>\n",
              "      <td>126</td>\n",
              "      <td>2020-06-11 17:51:15+12:00</td>\n",
              "    </tr>\n",
              "    <tr>\n",
              "      <th>114902</th>\n",
              "      <td>2020-06-11T18:44:15.000+12:00</td>\n",
              "      <td>1</td>\n",
              "      <td>133</td>\n",
              "      <td>2020-06-11 18:44:15+12:00</td>\n",
              "    </tr>\n",
              "    <tr>\n",
              "      <th>120923</th>\n",
              "      <td>2020-06-13T21:03:15.000+12:00</td>\n",
              "      <td>1</td>\n",
              "      <td>128</td>\n",
              "      <td>2020-06-13 21:03:15+12:00</td>\n",
              "    </tr>\n",
              "  </tbody>\n",
              "</table>\n",
              "</div>"
            ],
            "text/plain": [
              "                          LastUpdated  ...                      date\n",
              "475     2020-05-01T03:57:15.000+12:00  ... 2020-05-01 03:57:15+12:00\n",
              "2436    2020-05-01T20:18:15.000+12:00  ... 2020-05-01 20:18:15+12:00\n",
              "5822    2020-05-03T00:46:15.000+12:00  ... 2020-05-03 00:46:15+12:00\n",
              "12764   2020-05-05T10:39:15.000+12:00  ... 2020-05-05 10:39:15+12:00\n",
              "13394   2020-05-05T15:54:15.000+12:00  ... 2020-05-05 15:54:15+12:00\n",
              "13912   2020-05-05T20:13:15.000+12:00  ... 2020-05-05 20:13:15+12:00\n",
              "15648   2020-05-06T10:41:15.000+12:00  ... 2020-05-06 10:41:15+12:00\n",
              "15945   2020-05-06T13:09:15.000+12:00  ... 2020-05-06 13:09:15+12:00\n",
              "16096   2020-05-06T14:25:15.000+12:00  ... 2020-05-06 14:25:15+12:00\n",
              "19922   2020-05-07T22:25:15.000+12:00  ... 2020-05-07 22:25:15+12:00\n",
              "22374   2020-05-08T18:51:15.000+12:00  ... 2020-05-08 18:51:15+12:00\n",
              "25881   2020-05-10T00:26:15.000+12:00  ... 2020-05-10 00:26:15+12:00\n",
              "26493   2020-05-10T05:32:15.000+12:00  ... 2020-05-10 05:32:15+12:00\n",
              "26841   2020-05-10T08:26:15.000+12:00  ... 2020-05-10 08:26:15+12:00\n",
              "26978   2020-05-10T09:34:15.000+12:00  ... 2020-05-10 09:34:15+12:00\n",
              "33582   2020-05-12T16:48:15.000+12:00  ... 2020-05-12 16:48:15+12:00\n",
              "35030   2020-05-13T04:52:15.000+12:00  ... 2020-05-13 04:52:15+12:00\n",
              "35766   2020-05-13T11:00:15.000+12:00  ... 2020-05-13 11:00:15+12:00\n",
              "35780   2020-05-13T11:07:15.000+12:00  ... 2020-05-13 11:07:15+12:00\n",
              "35958   2020-05-13T12:36:15.000+12:00  ... 2020-05-13 12:36:15+12:00\n",
              "37667   2020-05-14T02:50:15.000+12:00  ... 2020-05-14 02:50:15+12:00\n",
              "40285   2020-05-15T00:54:15.000+12:00  ... 2020-05-15 00:54:15+12:00\n",
              "43851   2020-05-16T06:37:15.000+12:00  ... 2020-05-16 06:37:15+12:00\n",
              "44340   2020-05-16T10:41:15.000+12:00  ... 2020-05-16 10:41:15+12:00\n",
              "47356   2020-05-17T12:00:15.000+12:00  ... 2020-05-17 12:00:15+12:00\n",
              "48696   2020-05-17T23:10:15.000+12:00  ... 2020-05-17 23:10:15+12:00\n",
              "49602   2020-05-18T06:43:15.000+12:00  ... 2020-05-18 06:43:15+12:00\n",
              "49732   2020-05-18T07:48:15.000+12:00  ... 2020-05-18 07:48:15+12:00\n",
              "51222   2020-05-18T20:13:15.000+12:00  ... 2020-05-18 20:13:15+12:00\n",
              "51802   2020-05-19T01:03:15.000+12:00  ... 2020-05-19 01:03:15+12:00\n",
              "54405   2020-05-19T22:45:15.000+12:00  ... 2020-05-19 22:45:15+12:00\n",
              "56845   2020-05-20T19:13:15.000+12:00  ... 2020-05-20 19:13:15+12:00\n",
              "59482   2020-05-21T17:12:15.000+12:00  ... 2020-05-21 17:12:15+12:00\n",
              "62668   2020-05-22T19:45:15.000+12:00  ... 2020-05-22 19:45:15+12:00\n",
              "63342   2020-05-23T01:22:15.000+12:00  ... 2020-05-23 01:22:15+12:00\n",
              "63440   2020-05-23T02:11:15.000+12:00  ... 2020-05-23 02:11:15+12:00\n",
              "66577   2020-05-24T04:59:15.000+12:00  ... 2020-05-24 04:59:15+12:00\n",
              "67791   2020-05-24T15:06:15.000+12:00  ... 2020-05-24 15:06:15+12:00\n",
              "68979   2020-05-25T01:00:15.000+12:00  ... 2020-05-25 01:00:15+12:00\n",
              "70883   2020-05-25T16:52:15.000+12:00  ... 2020-05-25 16:52:15+12:00\n",
              "72139   2020-05-26T03:20:15.000+12:00  ... 2020-05-26 03:20:15+12:00\n",
              "73294   2020-05-26T12:57:15.000+12:00  ... 2020-05-26 12:57:15+12:00\n",
              "73801   2020-05-26T17:11:15.000+12:00  ... 2020-05-26 17:11:15+12:00\n",
              "76832   2020-05-27T18:26:15.000+12:00  ... 2020-05-27 18:26:15+12:00\n",
              "77694   2020-05-28T01:37:15.000+12:00  ... 2020-05-28 01:37:15+12:00\n",
              "77821   2020-05-28T02:41:15.000+12:00  ... 2020-05-28 02:41:15+12:00\n",
              "79111   2020-05-28T13:36:15.000+12:00  ... 2020-05-28 13:36:15+12:00\n",
              "83631   2020-05-30T22:25:15.000+12:00  ... 2020-05-30 22:25:15+12:00\n",
              "84447   2020-05-31T12:01:15.000+12:00  ... 2020-05-31 12:01:15+12:00\n",
              "96975   2020-06-05T13:05:15.000+12:00  ... 2020-06-05 13:05:15+12:00\n",
              "97213   2020-06-05T15:04:15.000+12:00  ... 2020-06-05 15:04:15+12:00\n",
              "99671   2020-06-06T11:33:15.000+12:00  ... 2020-06-06 11:33:15+12:00\n",
              "101627  2020-06-07T03:51:15.000+12:00  ... 2020-06-07 03:51:15+12:00\n",
              "103858  2020-06-07T22:35:15.000+12:00  ... 2020-06-07 22:35:15+12:00\n",
              "106939  2020-06-09T00:15:15.000+12:00  ... 2020-06-09 00:15:15+12:00\n",
              "114206  2020-06-11T12:56:15.000+12:00  ... 2020-06-11 12:56:15+12:00\n",
              "114796  2020-06-11T17:51:15.000+12:00  ... 2020-06-11 17:51:15+12:00\n",
              "114902  2020-06-11T18:44:15.000+12:00  ... 2020-06-11 18:44:15+12:00\n",
              "120923  2020-06-13T21:03:15.000+12:00  ... 2020-06-13 21:03:15+12:00\n",
              "\n",
              "[59 rows x 4 columns]"
            ]
          },
          "metadata": {
            "tags": []
          },
          "execution_count": 20
        }
      ]
    },
    {
      "cell_type": "code",
      "metadata": {
        "id": "1YdjOIs_096H"
      },
      "source": [
        "df_cp_filtered = df_cp_filtered.drop(df_cp_filtered[df_cp_filtered.Occupancy < 80].index) "
      ],
      "execution_count": null,
      "outputs": []
    },
    {
      "cell_type": "code",
      "metadata": {
        "id": "kjdjxQi52f9J"
      },
      "source": [
        "df_cp_filtered = df_cp_filtered.drop(df_cp_filtered[df_cp_filtered.Occupancy > 125].index)"
      ],
      "execution_count": null,
      "outputs": []
    },
    {
      "cell_type": "code",
      "metadata": {
        "colab": {
          "base_uri": "https://localhost:8080/",
          "height": 321
        },
        "id": "s2YzPffM3pnj",
        "outputId": "b21b061d-c2a7-4a0d-a2fd-6938c2277370"
      },
      "source": [
        "df_cp_filtered.set_index('date') [['Occupancy']].plot(subplots=True)"
      ],
      "execution_count": null,
      "outputs": [
        {
          "output_type": "execute_result",
          "data": {
            "text/plain": [
              "array([<matplotlib.axes._subplots.AxesSubplot object at 0x7fa0a31c6750>],\n",
              "      dtype=object)"
            ]
          },
          "metadata": {
            "tags": []
          },
          "execution_count": 23
        },
        {
          "output_type": "display_data",
          "data": {
            "image/png": "[encoded data removed]",
            "text/plain": [
              "<Figure size 432x288 with 1 Axes>"
            ]
          },
          "metadata": {
            "tags": [],
            "needs_background": "light"
          }
        }
      ]
    },
    {
      "cell_type": "markdown",
      "metadata": {
        "id": "0kELGb7M39fm"
      },
      "source": [
        ""
      ]
    },
    {
      "cell_type": "code",
      "metadata": {
        "id": "bOGtSjWmdlh3",
        "colab": {
          "base_uri": "https://localhost:8080/",
          "height": 198
        },
        "outputId": "b6597c0e-d370-49e8-9e91-af3eea1f3e28"
      },
      "source": [
        "# Select final input feature ('Occupany')\r\n",
        "df_input = df_cp_filtered[['Occupancy']]  # df_input also use 'date' for index, inherited from df\r\n",
        "df_input.head()"
      ],
      "execution_count": null,
      "outputs": [
        {
          "output_type": "execute_result",
          "data": {
            "text/html": [
              "<div>\n",
              "<style scoped>\n",
              "    .dataframe tbody tr th:only-of-type {\n",
              "        vertical-align: middle;\n",
              "    }\n",
              "\n",
              "    .dataframe tbody tr th {\n",
              "        vertical-align: top;\n",
              "    }\n",
              "\n",
              "    .dataframe thead th {\n",
              "        text-align: right;\n",
              "    }\n",
              "</style>\n",
              "<table border=\"1\" class=\"dataframe\">\n",
              "  <thead>\n",
              "    <tr style=\"text-align: right;\">\n",
              "      <th></th>\n",
              "      <th>Occupancy</th>\n",
              "    </tr>\n",
              "  </thead>\n",
              "  <tbody>\n",
              "    <tr>\n",
              "      <th>0</th>\n",
              "      <td>102</td>\n",
              "    </tr>\n",
              "    <tr>\n",
              "      <th>2</th>\n",
              "      <td>108</td>\n",
              "    </tr>\n",
              "    <tr>\n",
              "      <th>4</th>\n",
              "      <td>106</td>\n",
              "    </tr>\n",
              "    <tr>\n",
              "      <th>6</th>\n",
              "      <td>93</td>\n",
              "    </tr>\n",
              "    <tr>\n",
              "      <th>8</th>\n",
              "      <td>117</td>\n",
              "    </tr>\n",
              "  </tbody>\n",
              "</table>\n",
              "</div>"
            ],
            "text/plain": [
              "   Occupancy\n",
              "0        102\n",
              "2        108\n",
              "4        106\n",
              "6         93\n",
              "8        117"
            ]
          },
          "metadata": {
            "tags": []
          },
          "execution_count": 24
        }
      ]
    },
    {
      "cell_type": "code",
      "metadata": {
        "id": "3F3QH8jpZ_j9",
        "colab": {
          "base_uri": "https://localhost:8080/"
        },
        "outputId": "f9fa4679-8043-4eb2-abd4-4bfbf71eb195"
      },
      "source": [
        "df_input.info()"
      ],
      "execution_count": null,
      "outputs": [
        {
          "output_type": "stream",
          "text": [
            "<class 'pandas.core.frame.DataFrame'>\n",
            "Int64Index: 63217 entries, 0 to 121550\n",
            "Data columns (total 1 columns):\n",
            " #   Column     Non-Null Count  Dtype\n",
            "---  ------     --------------  -----\n",
            " 0   Occupancy  63217 non-null  int64\n",
            "dtypes: int64(1)\n",
            "memory usage: 987.8 KB\n"
          ],
          "name": "stdout"
        }
      ]
    },
    {
      "cell_type": "code",
      "metadata": {
        "id": "1nfUwxP1iuI0",
        "colab": {
          "base_uri": "https://localhost:8080/",
          "height": 288
        },
        "outputId": "d804cc8c-b318-4ee7-d233-3634824c8171"
      },
      "source": [
        "# check the distribution of input features\r\n",
        "df_input.describe()"
      ],
      "execution_count": null,
      "outputs": [
        {
          "output_type": "execute_result",
          "data": {
            "text/html": [
              "<div>\n",
              "<style scoped>\n",
              "    .dataframe tbody tr th:only-of-type {\n",
              "        vertical-align: middle;\n",
              "    }\n",
              "\n",
              "    .dataframe tbody tr th {\n",
              "        vertical-align: top;\n",
              "    }\n",
              "\n",
              "    .dataframe thead th {\n",
              "        text-align: right;\n",
              "    }\n",
              "</style>\n",
              "<table border=\"1\" class=\"dataframe\">\n",
              "  <thead>\n",
              "    <tr style=\"text-align: right;\">\n",
              "      <th></th>\n",
              "      <th>Occupancy</th>\n",
              "    </tr>\n",
              "  </thead>\n",
              "  <tbody>\n",
              "    <tr>\n",
              "      <th>count</th>\n",
              "      <td>63217.000000</td>\n",
              "    </tr>\n",
              "    <tr>\n",
              "      <th>mean</th>\n",
              "      <td>105.017163</td>\n",
              "    </tr>\n",
              "    <tr>\n",
              "      <th>std</th>\n",
              "      <td>6.592817</td>\n",
              "    </tr>\n",
              "    <tr>\n",
              "      <th>min</th>\n",
              "      <td>80.000000</td>\n",
              "    </tr>\n",
              "    <tr>\n",
              "      <th>25%</th>\n",
              "      <td>101.000000</td>\n",
              "    </tr>\n",
              "    <tr>\n",
              "      <th>50%</th>\n",
              "      <td>105.000000</td>\n",
              "    </tr>\n",
              "    <tr>\n",
              "      <th>75%</th>\n",
              "      <td>109.000000</td>\n",
              "    </tr>\n",
              "    <tr>\n",
              "      <th>max</th>\n",
              "      <td>125.000000</td>\n",
              "    </tr>\n",
              "  </tbody>\n",
              "</table>\n",
              "</div>"
            ],
            "text/plain": [
              "          Occupancy\n",
              "count  63217.000000\n",
              "mean     105.017163\n",
              "std        6.592817\n",
              "min       80.000000\n",
              "25%      101.000000\n",
              "50%      105.000000\n",
              "75%      109.000000\n",
              "max      125.000000"
            ]
          },
          "metadata": {
            "tags": []
          },
          "execution_count": 26
        }
      ]
    },
    {
      "cell_type": "markdown",
      "metadata": {
        "id": "cgiAzTqvnwjR"
      },
      "source": [
        "# Data sclaling to [0, 1] range"
      ]
    },
    {
      "cell_type": "code",
      "metadata": {
        "id": "mjjnUIXWlh4P"
      },
      "source": [
        "scaler = MinMaxScaler()\r\n",
        "data_scaled = scaler.fit_transform(df_input)"
      ],
      "execution_count": null,
      "outputs": []
    },
    {
      "cell_type": "code",
      "metadata": {
        "id": "xHF_6aIVltVw",
        "colab": {
          "base_uri": "https://localhost:8080/"
        },
        "outputId": "056b2156-221c-46a4-f8f0-33d6d8a80706"
      },
      "source": [
        "data_scaled"
      ],
      "execution_count": null,
      "outputs": [
        {
          "output_type": "execute_result",
          "data": {
            "text/plain": [
              "array([[0.48888889],\n",
              "       [0.62222222],\n",
              "       [0.57777778],\n",
              "       ...,\n",
              "       [0.62222222],\n",
              "       [0.48888889],\n",
              "       [0.55555556]])"
            ]
          },
          "metadata": {
            "tags": []
          },
          "execution_count": 28
        }
      ]
    },
    {
      "cell_type": "code",
      "metadata": {
        "id": "runCiXhomPVg",
        "colab": {
          "base_uri": "https://localhost:8080/"
        },
        "outputId": "18e1ea0e-d7f2-409b-a767-27c3fc69796c"
      },
      "source": [
        "data_scaled.shape"
      ],
      "execution_count": null,
      "outputs": [
        {
          "output_type": "execute_result",
          "data": {
            "text/plain": [
              "(63217, 1)"
            ]
          },
          "metadata": {
            "tags": []
          },
          "execution_count": 29
        }
      ]
    },
    {
      "cell_type": "markdown",
      "metadata": {
        "id": "mT3aeNVzoJkB"
      },
      "source": [
        "# Features (Inputs) and Target (Output prediction) selections "
      ]
    },
    {
      "cell_type": "code",
      "metadata": {
        "id": "Q9ZPWL3Iu-aU"
      },
      "source": [
        "# Feature selection and Target predicted selection \r\n",
        "features = data_scaled  # use for input \r\n",
        "\r\n",
        "target = data_scaled[:,0] # use for output prediction"
      ],
      "execution_count": null,
      "outputs": []
    },
    {
      "cell_type": "code",
      "metadata": {
        "id": "5jbrgfZznAmD",
        "colab": {
          "base_uri": "https://localhost:8080/"
        },
        "outputId": "73bae8bb-5be6-4481-94b5-a2dce7d938ec"
      },
      "source": [
        "target"
      ],
      "execution_count": null,
      "outputs": [
        {
          "output_type": "execute_result",
          "data": {
            "text/plain": [
              "array([0.48888889, 0.62222222, 0.57777778, ..., 0.62222222, 0.48888889,\n",
              "       0.55555556])"
            ]
          },
          "metadata": {
            "tags": []
          },
          "execution_count": 31
        }
      ]
    },
    {
      "cell_type": "code",
      "metadata": {
        "id": "SF5nPJd3nF28",
        "colab": {
          "base_uri": "https://localhost:8080/"
        },
        "outputId": "15ef5a0b-ed92-4588-cef9-4e7895dea455"
      },
      "source": [
        "target.shape  # (19735,) --> one column by default"
      ],
      "execution_count": null,
      "outputs": [
        {
          "output_type": "execute_result",
          "data": {
            "text/plain": [
              "(63217,)"
            ]
          },
          "metadata": {
            "tags": []
          },
          "execution_count": 32
        }
      ]
    },
    {
      "cell_type": "markdown",
      "metadata": {
        "id": "63CyIkjXUZO3"
      },
      "source": [
        "# Generate x_train/x_test --> train_generator and test_generator data\r\n",
        "  --> to transfer from dealing with **timeseries prediction** problem to **supervised learning** problem\r\n",
        " "
      ]
    },
    {
      "cell_type": "code",
      "metadata": {
        "id": "1nZA8-10pJGq"
      },
      "source": [
        "# create x_train, x_test, y_train, and y_test\r\n",
        "# 80% for training, 20% for testing and evaluation\r\n",
        "x_train, x_test, y_train, y_test = train_test_split(features, target, test_size=0.20, random_state=123, shuffle=False) # remember to set shuffle=False --> important for TS prediction\r\n"
      ],
      "execution_count": null,
      "outputs": []
    },
    {
      "cell_type": "code",
      "metadata": {
        "id": "zazG5hTxqzyh",
        "colab": {
          "base_uri": "https://localhost:8080/"
        },
        "outputId": "a230061f-f896-4931-89e0-8b64099bb842"
      },
      "source": [
        "x_train.shape # 80%"
      ],
      "execution_count": null,
      "outputs": [
        {
          "output_type": "execute_result",
          "data": {
            "text/plain": [
              "(50573, 1)"
            ]
          },
          "metadata": {
            "tags": []
          },
          "execution_count": 34
        }
      ]
    },
    {
      "cell_type": "code",
      "metadata": {
        "colab": {
          "base_uri": "https://localhost:8080/"
        },
        "id": "PPcLN47GxcRq",
        "outputId": "c04a7efc-d8c0-41ff-d5cb-6984aa2bde23"
      },
      "source": [
        "y_train.shape"
      ],
      "execution_count": null,
      "outputs": [
        {
          "output_type": "execute_result",
          "data": {
            "text/plain": [
              "(50573,)"
            ]
          },
          "metadata": {
            "tags": []
          },
          "execution_count": 35
        }
      ]
    },
    {
      "cell_type": "code",
      "metadata": {
        "id": "VUo1-6-kq7lg",
        "colab": {
          "base_uri": "https://localhost:8080/"
        },
        "outputId": "8d840136-5752-4d8c-bc2c-693596abc747"
      },
      "source": [
        "x_test.shape"
      ],
      "execution_count": null,
      "outputs": [
        {
          "output_type": "execute_result",
          "data": {
            "text/plain": [
              "(12644, 1)"
            ]
          },
          "metadata": {
            "tags": []
          },
          "execution_count": 36
        }
      ]
    },
    {
      "cell_type": "markdown",
      "metadata": {
        "id": "SDaZ8yQarpD5"
      },
      "source": [
        "Create a data structure with 10,080 (60x24hx7days) timestamps of inputs (1 week data of each CP) --> to create 1 output\r\n",
        "\r\n",
        "For example, taking every group of 10,080 records (or 1-week data) to work as **x_train_generators** to create one sigle future record of **y_train_generator** since it does not exist in the dataset"
      ]
    },
    {
      "cell_type": "code",
      "metadata": {
        "id": "XdvpKBtssPwl"
      },
      "source": [
        "# Create a data structure with 10,080 timestamps of inputs --> to create 1 output\r\n",
        "# using TimeSeriesGenerator() function\r\n",
        "window_length=10080 # 1-week length: 10,080 \r\n",
        "batch_size=128   # batch_size: Integer or None. Number of samples per gradient update. If unspecified, batch_size will default to 32.\r\n",
        "\r\n",
        "train_generator = TimeseriesGenerator(x_train, y_train, length=window_length, sampling_rate=1, batch_size=batch_size)\r\n",
        "test_generator = TimeseriesGenerator(x_test, y_test, length=window_length, sampling_rate=1, batch_size=batch_size)"
      ],
      "execution_count": null,
      "outputs": []
    },
    {
      "cell_type": "code",
      "metadata": {
        "id": "ilRHlcfwtCQf",
        "colab": {
          "base_uri": "https://localhost:8080/"
        },
        "outputId": "f9f77668-ffb9-4229-bf96-0b71042269f7"
      },
      "source": [
        "train_generator[0]  # -- #batch_size groups of an array of 10,080 arrays of x_train, and and an array of #batch_size values of y_train\r\n",
        "                    # Or 10,080 [0:10079] input records (rows) --> create one output record (i.e. the value of record 10,080)"
      ],
      "execution_count": null,
      "outputs": [
        {
          "output_type": "execute_result",
          "data": {
            "text/plain": [
              "(array([[[0.48888889],\n",
              "         [0.62222222],\n",
              "         [0.57777778],\n",
              "         ...,\n",
              "         [0.53333333],\n",
              "         [0.57777778],\n",
              "         [0.77777778]],\n",
              " \n",
              "        [[0.62222222],\n",
              "         [0.57777778],\n",
              "         [0.28888889],\n",
              "         ...,\n",
              "         [0.57777778],\n",
              "         [0.77777778],\n",
              "         [0.62222222]],\n",
              " \n",
              "        [[0.57777778],\n",
              "         [0.28888889],\n",
              "         [0.82222222],\n",
              "         ...,\n",
              "         [0.77777778],\n",
              "         [0.62222222],\n",
              "         [0.48888889]],\n",
              " \n",
              "        ...,\n",
              " \n",
              "        [[0.35555556],\n",
              "         [0.53333333],\n",
              "         [0.44444444],\n",
              "         ...,\n",
              "         [0.66666667],\n",
              "         [0.42222222],\n",
              "         [0.71111111]],\n",
              " \n",
              "        [[0.53333333],\n",
              "         [0.44444444],\n",
              "         [0.46666667],\n",
              "         ...,\n",
              "         [0.42222222],\n",
              "         [0.71111111],\n",
              "         [0.33333333]],\n",
              " \n",
              "        [[0.44444444],\n",
              "         [0.46666667],\n",
              "         [0.48888889],\n",
              "         ...,\n",
              "         [0.71111111],\n",
              "         [0.33333333],\n",
              "         [0.62222222]]]),\n",
              " array([0.62222222, 0.48888889, 0.37777778, 0.62222222, 0.64444444,\n",
              "        0.57777778, 0.55555556, 0.62222222, 0.68888889, 0.62222222,\n",
              "        0.68888889, 0.51111111, 0.55555556, 0.51111111, 0.64444444,\n",
              "        0.82222222, 0.62222222, 0.28888889, 0.8       , 0.37777778,\n",
              "        0.8       , 0.86666667, 0.62222222, 0.4       , 0.8       ,\n",
              "        0.35555556, 0.86666667, 0.68888889, 0.46666667, 0.66666667,\n",
              "        0.64444444, 0.57777778, 0.93333333, 0.53333333, 0.75555556,\n",
              "        0.35555556, 0.51111111, 0.28888889, 0.51111111, 0.51111111,\n",
              "        0.53333333, 0.64444444, 0.42222222, 0.64444444, 0.37777778,\n",
              "        0.64444444, 0.46666667, 0.4       , 0.51111111, 0.55555556,\n",
              "        0.51111111, 0.73333333, 0.48888889, 0.62222222, 0.53333333,\n",
              "        0.64444444, 0.48888889, 0.33333333, 0.48888889, 0.95555556,\n",
              "        0.48888889, 0.51111111, 0.48888889, 0.71111111, 0.64444444,\n",
              "        0.68888889, 0.6       , 0.44444444, 0.46666667, 0.55555556,\n",
              "        0.51111111, 0.15555556, 0.4       , 0.42222222, 0.8       ,\n",
              "        0.44444444, 0.48888889, 0.57777778, 0.42222222, 0.55555556,\n",
              "        0.66666667, 0.55555556, 0.66666667, 0.4       , 0.57777778,\n",
              "        0.55555556, 0.66666667, 0.31111111, 0.64444444, 0.73333333,\n",
              "        0.68888889, 0.44444444, 0.51111111, 0.48888889, 0.57777778,\n",
              "        0.44444444, 0.66666667, 0.64444444, 0.4       , 0.57777778,\n",
              "        0.6       , 0.68888889, 0.51111111, 0.4       , 0.64444444,\n",
              "        0.55555556, 0.44444444, 0.71111111, 0.68888889, 0.62222222,\n",
              "        0.66666667, 0.44444444, 0.77777778, 0.53333333, 0.8       ,\n",
              "        0.53333333, 0.55555556, 0.71111111, 0.51111111, 0.55555556,\n",
              "        0.51111111, 0.46666667, 0.66666667, 0.42222222, 0.71111111,\n",
              "        0.33333333, 0.62222222, 0.73333333]))"
            ]
          },
          "metadata": {
            "tags": []
          },
          "execution_count": 38
        }
      ]
    },
    {
      "cell_type": "code",
      "metadata": {
        "id": "mJntigqcuez8",
        "colab": {
          "base_uri": "https://localhost:8080/"
        },
        "outputId": "81431b87-d25d-4ba7-9be2-5fb0dc0ce589"
      },
      "source": [
        "# checking \r\n",
        "x_train[10080]  # -->  equal to the first value in train_generator[0] array"
      ],
      "execution_count": null,
      "outputs": [
        {
          "output_type": "execute_result",
          "data": {
            "text/plain": [
              "array([0.62222222])"
            ]
          },
          "metadata": {
            "tags": []
          },
          "execution_count": 39
        }
      ]
    },
    {
      "cell_type": "markdown",
      "metadata": {
        "id": "ZPd9TBziwxA6"
      },
      "source": [
        "# Part 2. Create a model (LSTM-based) "
      ]
    },
    {
      "cell_type": "code",
      "metadata": {
        "id": "NrTZT1YfoM7x"
      },
      "source": [
        "# Initializing the Neural Network \r\n",
        "model = tf.keras.Sequential()\r\n",
        "\r\n",
        "# Adding 1st LSTM layer\r\n",
        "#window_length=10080\r\n",
        "model.add(tf.keras.layers.LSTM(16, input_shape=(window_length, 1), return_sequences=True))\r\n",
        "\r\n",
        "# Adding 2nd LSTM layer\r\n",
        "model.add(tf.keras.layers.LSTM(8, return_sequences=True))\r\n",
        "model.add(tf.keras.layers.Dropout(0.2)) \r\n",
        "\r\n",
        "# Adding 3rd LSTM layer\r\n",
        "model.add(tf.keras.layers.LSTM(8, return_sequences=False))\r\n",
        "model.add(tf.keras.layers.Dropout(0.2)) \r\n",
        "\r\n",
        "# Output layer\r\n",
        "model.add(tf.keras.layers.Dense(1))"
      ],
      "execution_count": null,
      "outputs": []
    },
    {
      "cell_type": "code",
      "metadata": {
        "id": "04TNpIrkdwLe",
        "colab": {
          "base_uri": "https://localhost:8080/"
        },
        "outputId": "fa06c00b-b36d-4245-ad6b-ab21950a214e"
      },
      "source": [
        "# check the layers' attributes of the model\r\n",
        "model.layers"
      ],
      "execution_count": null,
      "outputs": [
        {
          "output_type": "execute_result",
          "data": {
            "text/plain": [
              "[<tensorflow.python.keras.layers.recurrent_v2.LSTM at 0x7fa0a1f3bdd0>,\n",
              " <tensorflow.python.keras.layers.recurrent_v2.LSTM at 0x7fa0a1f88d90>,\n",
              " <tensorflow.python.keras.layers.core.Dropout at 0x7fa0a1f68650>,\n",
              " <tensorflow.python.keras.layers.recurrent_v2.LSTM at 0x7fa090547750>,\n",
              " <tensorflow.python.keras.layers.core.Dropout at 0x7fa090308f10>,\n",
              " <tensorflow.python.keras.layers.core.Dense at 0x7fa090265790>]"
            ]
          },
          "metadata": {
            "tags": []
          },
          "execution_count": 41
        }
      ]
    },
    {
      "cell_type": "code",
      "metadata": {
        "id": "rj11LOJn0QIV",
        "colab": {
          "base_uri": "https://localhost:8080/"
        },
        "outputId": "3d0b6ff0-640e-4d72-8b90-ff8b0dfb1eba"
      },
      "source": [
        "model.summary()"
      ],
      "execution_count": null,
      "outputs": [
        {
          "output_type": "stream",
          "text": [
            "Model: \"sequential\"\n",
            "_________________________________________________________________\n",
            "Layer (type)                 Output Shape              Param #   \n",
            "=================================================================\n",
            "lstm (LSTM)                  (None, 10080, 16)         1152      \n",
            "_________________________________________________________________\n",
            "lstm_1 (LSTM)                (None, 10080, 8)          800       \n",
            "_________________________________________________________________\n",
            "dropout (Dropout)            (None, 10080, 8)          0         \n",
            "_________________________________________________________________\n",
            "lstm_2 (LSTM)                (None, 8)                 544       \n",
            "_________________________________________________________________\n",
            "dropout_1 (Dropout)          (None, 8)                 0         \n",
            "_________________________________________________________________\n",
            "dense (Dense)                (None, 1)                 9         \n",
            "=================================================================\n",
            "Total params: 2,505\n",
            "Trainable params: 2,505\n",
            "Non-trainable params: 0\n",
            "_________________________________________________________________\n"
          ],
          "name": "stdout"
        }
      ]
    },
    {
      "cell_type": "markdown",
      "metadata": {
        "id": "7hSaseM8Q8W1"
      },
      "source": [
        "# Part 3. Train the model"
      ]
    },
    {
      "cell_type": "markdown",
      "metadata": {
        "id": "EJtZzXBARFhs"
      },
      "source": [
        "Using TensorBoard (optional)"
      ]
    },
    {
      "cell_type": "code",
      "metadata": {
        "id": "-F38oGCkMpgN"
      },
      "source": [
        "tb = tf.keras.callbacks.TensorBoard(log_dir='logs',histogram_freq=1) "
      ],
      "execution_count": null,
      "outputs": []
    },
    {
      "cell_type": "markdown",
      "metadata": {
        "id": "Po59l4y9RLbk"
      },
      "source": [
        "Configure: Checking and monitoring"
      ]
    },
    {
      "cell_type": "code",
      "metadata": {
        "id": "exZOf_E9MC6M"
      },
      "source": [
        "#---- Configure: checking and monitoring ---------------------\r\n",
        "#early_stopping = tf.keras.callbacks.EarlyStopping(monitor='val_loss', patience=50, mode='min') # \r\n",
        "early_stopping = tf.keras.callbacks.EarlyStopping(monitor='mean_absolute_error', patience=3, mode='min') # USing\r\n",
        "\r\n",
        "#---- Save model option ------------------------\r\n",
        "#model_checkpoint = tf.keras.callbacks.ModelCheckpoint(filepath='weights.h5', monitor='val_loss', verbose=1, save_best_only=True, save_weights_only=True) # not USE\r\n",
        "#model_checkpoint = tf.keras.callbacks.ModelCheckpoint(filepath='weights.h5', monitor='mean_absolute_error', verbose=1, save_best_only=True, save_weights_only=True)  # USing\r\n",
        "model_checkpoint = tf.keras.callbacks.ModelCheckpoint(filepath='model.h5', monitor='mean_absolute_error', verbose=1, save_best_only=True)  # USing: save the whole model\r\n"
      ],
      "execution_count": null,
      "outputs": []
    },
    {
      "cell_type": "code",
      "metadata": {
        "id": "fkeZTQkg0PDC"
      },
      "source": [
        "#test_generator[0]"
      ],
      "execution_count": null,
      "outputs": []
    },
    {
      "cell_type": "markdown",
      "metadata": {
        "id": "qsuTa6qVRj18"
      },
      "source": [
        "Compile and Train the model"
      ]
    },
    {
      "cell_type": "code",
      "metadata": {
        "id": "GAd2EAQj04Z2",
        "colab": {
          "base_uri": "https://localhost:8080/"
        },
        "outputId": "8d866958-cc07-4b22-e109-41aa2283606c"
      },
      "source": [
        "#----- Compiling the Neural Network\r\n",
        "model.compile(#loss=tf.losses.MeanSquaredError(), # Error when deploying the model in DL4J --> use the below instead (https://github.com/eclipse/deeplearning4j/issues/8990)\r\n",
        "              loss='mean_squared_error',\r\n",
        "              optimizer=tf.optimizers.Adam(),   # use Adam optimizer\r\n",
        "              metrics=[tf.metrics.MeanAbsoluteError()])   \r\n",
        "\r\n",
        "# Start training   \r\n",
        "history = model.fit( \r\n",
        "                    train_generator, \r\n",
        "                    epochs=50, #1000                            \r\n",
        "                    validation_data=test_generator, # for model validation                     \r\n",
        "                    shuffle=False,\r\n",
        "                    verbose=1,                    \r\n",
        "                    callbacks=[early_stopping, model_checkpoint, tb]  # for model saving and Tensorboard\r\n",
        "                    #callbacks=[early_stopping, tb]     # for Tensorboard\r\n",
        "                    #callbacks=[early_stopping]  # for faster running without model saving and tb     \r\n",
        "                    )"
      ],
      "execution_count": null,
      "outputs": [
        {
          "output_type": "stream",
          "text": [
            "Epoch 1/50\n",
            "317/317 [==============================] - 277s 765ms/step - loss: 0.0839 - mean_absolute_error: 0.2233 - val_loss: 0.0220 - val_mean_absolute_error: 0.1185\n",
            "\n",
            "Epoch 00001: mean_absolute_error improved from inf to 0.16504, saving model to model.h5\n",
            "Epoch 2/50\n",
            "317/317 [==============================] - 235s 740ms/step - loss: 0.0292 - mean_absolute_error: 0.1363 - val_loss: 0.0220 - val_mean_absolute_error: 0.1186\n",
            "\n",
            "Epoch 00002: mean_absolute_error improved from 0.16504 to 0.13537, saving model to model.h5\n",
            "Epoch 3/50\n",
            "317/317 [==============================] - 235s 741ms/step - loss: 0.0273 - mean_absolute_error: 0.1321 - val_loss: 0.0220 - val_mean_absolute_error: 0.1185\n",
            "\n",
            "Epoch 00003: mean_absolute_error improved from 0.13537 to 0.13056, saving model to model.h5\n",
            "Epoch 4/50\n",
            "317/317 [==============================] - 235s 741ms/step - loss: 0.0255 - mean_absolute_error: 0.1275 - val_loss: 0.0220 - val_mean_absolute_error: 0.1184\n",
            "\n",
            "Epoch 00004: mean_absolute_error improved from 0.13056 to 0.12666, saving model to model.h5\n",
            "Epoch 5/50\n",
            "317/317 [==============================] - 235s 740ms/step - loss: 0.0243 - mean_absolute_error: 0.1245 - val_loss: 0.0220 - val_mean_absolute_error: 0.1186\n",
            "\n",
            "Epoch 00005: mean_absolute_error improved from 0.12666 to 0.12385, saving model to model.h5\n",
            "Epoch 6/50\n",
            "317/317 [==============================] - 235s 740ms/step - loss: 0.0233 - mean_absolute_error: 0.1221 - val_loss: 0.0220 - val_mean_absolute_error: 0.1186\n",
            "\n",
            "Epoch 00006: mean_absolute_error improved from 0.12385 to 0.12142, saving model to model.h5\n",
            "Epoch 7/50\n",
            "317/317 [==============================] - 232s 731ms/step - loss: 0.0226 - mean_absolute_error: 0.1201 - val_loss: 0.0220 - val_mean_absolute_error: 0.1185\n",
            "\n",
            "Epoch 00007: mean_absolute_error improved from 0.12142 to 0.11965, saving model to model.h5\n",
            "Epoch 8/50\n",
            "317/317 [==============================] - 231s 729ms/step - loss: 0.0221 - mean_absolute_error: 0.1187 - val_loss: 0.0220 - val_mean_absolute_error: 0.1185\n",
            "\n",
            "Epoch 00008: mean_absolute_error improved from 0.11965 to 0.11859, saving model to model.h5\n",
            "Epoch 9/50\n",
            "317/317 [==============================] - 232s 731ms/step - loss: 0.0218 - mean_absolute_error: 0.1181 - val_loss: 0.0220 - val_mean_absolute_error: 0.1184\n",
            "\n",
            "Epoch 00009: mean_absolute_error improved from 0.11859 to 0.11792, saving model to model.h5\n",
            "Epoch 10/50\n",
            "317/317 [==============================] - 231s 729ms/step - loss: 0.0217 - mean_absolute_error: 0.1176 - val_loss: 0.0220 - val_mean_absolute_error: 0.1184\n",
            "\n",
            "Epoch 00010: mean_absolute_error improved from 0.11792 to 0.11762, saving model to model.h5\n",
            "Epoch 11/50\n",
            "317/317 [==============================] - 231s 730ms/step - loss: 0.0216 - mean_absolute_error: 0.1176 - val_loss: 0.0220 - val_mean_absolute_error: 0.1186\n",
            "\n",
            "Epoch 00011: mean_absolute_error improved from 0.11762 to 0.11752, saving model to model.h5\n",
            "Epoch 12/50\n",
            "317/317 [==============================] - 231s 730ms/step - loss: 0.0216 - mean_absolute_error: 0.1175 - val_loss: 0.0220 - val_mean_absolute_error: 0.1185\n",
            "\n",
            "Epoch 00012: mean_absolute_error improved from 0.11752 to 0.11745, saving model to model.h5\n",
            "Epoch 13/50\n",
            "317/317 [==============================] - 231s 728ms/step - loss: 0.0216 - mean_absolute_error: 0.1174 - val_loss: 0.0220 - val_mean_absolute_error: 0.1185\n",
            "\n",
            "Epoch 00013: mean_absolute_error improved from 0.11745 to 0.11739, saving model to model.h5\n",
            "Epoch 14/50\n",
            "317/317 [==============================] - 231s 728ms/step - loss: 0.0216 - mean_absolute_error: 0.1174 - val_loss: 0.0220 - val_mean_absolute_error: 0.1186\n",
            "\n",
            "Epoch 00014: mean_absolute_error improved from 0.11739 to 0.11735, saving model to model.h5\n",
            "Epoch 15/50\n",
            "317/317 [==============================] - 231s 728ms/step - loss: 0.0216 - mean_absolute_error: 0.1173 - val_loss: 0.0220 - val_mean_absolute_error: 0.1184\n",
            "\n",
            "Epoch 00015: mean_absolute_error improved from 0.11735 to 0.11733, saving model to model.h5\n",
            "Epoch 16/50\n",
            "317/317 [==============================] - 231s 728ms/step - loss: 0.0216 - mean_absolute_error: 0.1174 - val_loss: 0.0220 - val_mean_absolute_error: 0.1185\n",
            "\n",
            "Epoch 00016: mean_absolute_error did not improve from 0.11733\n",
            "Epoch 17/50\n",
            "317/317 [==============================] - 231s 728ms/step - loss: 0.0216 - mean_absolute_error: 0.1173 - val_loss: 0.0220 - val_mean_absolute_error: 0.1186\n",
            "\n",
            "Epoch 00017: mean_absolute_error improved from 0.11733 to 0.11729, saving model to model.h5\n",
            "Epoch 18/50\n",
            "317/317 [==============================] - 231s 728ms/step - loss: 0.0216 - mean_absolute_error: 0.1173 - val_loss: 0.0220 - val_mean_absolute_error: 0.1186\n",
            "\n",
            "Epoch 00018: mean_absolute_error did not improve from 0.11729\n",
            "Epoch 19/50\n",
            "317/317 [==============================] - 231s 728ms/step - loss: 0.0216 - mean_absolute_error: 0.1173 - val_loss: 0.0220 - val_mean_absolute_error: 0.1185\n",
            "\n",
            "Epoch 00019: mean_absolute_error improved from 0.11729 to 0.11728, saving model to model.h5\n",
            "Epoch 20/50\n",
            "317/317 [==============================] - 231s 728ms/step - loss: 0.0216 - mean_absolute_error: 0.1173 - val_loss: 0.0220 - val_mean_absolute_error: 0.1185\n",
            "\n",
            "Epoch 00020: mean_absolute_error improved from 0.11728 to 0.11727, saving model to model.h5\n",
            "Epoch 21/50\n",
            "317/317 [==============================] - 231s 728ms/step - loss: 0.0216 - mean_absolute_error: 0.1173 - val_loss: 0.0220 - val_mean_absolute_error: 0.1185\n",
            "\n",
            "Epoch 00021: mean_absolute_error did not improve from 0.11727\n",
            "Epoch 22/50\n",
            "317/317 [==============================] - 231s 728ms/step - loss: 0.0216 - mean_absolute_error: 0.1173 - val_loss: 0.0220 - val_mean_absolute_error: 0.1185\n",
            "\n",
            "Epoch 00022: mean_absolute_error did not improve from 0.11727\n",
            "Epoch 23/50\n",
            "317/317 [==============================] - 232s 733ms/step - loss: 0.0216 - mean_absolute_error: 0.1173 - val_loss: 0.0220 - val_mean_absolute_error: 0.1186\n",
            "\n",
            "Epoch 00023: mean_absolute_error improved from 0.11727 to 0.11727, saving model to model.h5\n",
            "Epoch 24/50\n",
            "317/317 [==============================] - 231s 727ms/step - loss: 0.0216 - mean_absolute_error: 0.1173 - val_loss: 0.0220 - val_mean_absolute_error: 0.1185\n",
            "\n",
            "Epoch 00024: mean_absolute_error improved from 0.11727 to 0.11726, saving model to model.h5\n",
            "Epoch 25/50\n",
            "317/317 [==============================] - 231s 729ms/step - loss: 0.0216 - mean_absolute_error: 0.1173 - val_loss: 0.0220 - val_mean_absolute_error: 0.1185\n",
            "\n",
            "Epoch 00025: mean_absolute_error improved from 0.11726 to 0.11725, saving model to model.h5\n",
            "Epoch 26/50\n",
            "317/317 [==============================] - 231s 728ms/step - loss: 0.0216 - mean_absolute_error: 0.1172 - val_loss: 0.0220 - val_mean_absolute_error: 0.1185\n",
            "\n",
            "Epoch 00026: mean_absolute_error improved from 0.11725 to 0.11724, saving model to model.h5\n",
            "Epoch 27/50\n",
            "317/317 [==============================] - 231s 728ms/step - loss: 0.0216 - mean_absolute_error: 0.1173 - val_loss: 0.0220 - val_mean_absolute_error: 0.1185\n",
            "\n",
            "Epoch 00027: mean_absolute_error did not improve from 0.11724\n",
            "Epoch 28/50\n",
            "317/317 [==============================] - 231s 727ms/step - loss: 0.0216 - mean_absolute_error: 0.1172 - val_loss: 0.0220 - val_mean_absolute_error: 0.1185\n",
            "\n",
            "Epoch 00028: mean_absolute_error improved from 0.11724 to 0.11722, saving model to model.h5\n",
            "Epoch 29/50\n",
            "317/317 [==============================] - 231s 728ms/step - loss: 0.0216 - mean_absolute_error: 0.1173 - val_loss: 0.0220 - val_mean_absolute_error: 0.1185\n",
            "\n",
            "Epoch 00029: mean_absolute_error did not improve from 0.11722\n",
            "Epoch 30/50\n",
            "317/317 [==============================] - 231s 727ms/step - loss: 0.0216 - mean_absolute_error: 0.1172 - val_loss: 0.0220 - val_mean_absolute_error: 0.1185\n",
            "\n",
            "Epoch 00030: mean_absolute_error improved from 0.11722 to 0.11721, saving model to model.h5\n",
            "Epoch 31/50\n",
            "317/317 [==============================] - 231s 727ms/step - loss: 0.0216 - mean_absolute_error: 0.1172 - val_loss: 0.0220 - val_mean_absolute_error: 0.1185\n",
            "\n",
            "Epoch 00031: mean_absolute_error improved from 0.11721 to 0.11721, saving model to model.h5\n",
            "Epoch 32/50\n",
            "317/317 [==============================] - 231s 727ms/step - loss: 0.0216 - mean_absolute_error: 0.1172 - val_loss: 0.0220 - val_mean_absolute_error: 0.1185\n",
            "\n",
            "Epoch 00032: mean_absolute_error improved from 0.11721 to 0.11721, saving model to model.h5\n",
            "Epoch 33/50\n",
            "317/317 [==============================] - 231s 728ms/step - loss: 0.0216 - mean_absolute_error: 0.1172 - val_loss: 0.0220 - val_mean_absolute_error: 0.1186\n",
            "\n",
            "Epoch 00033: mean_absolute_error did not improve from 0.11721\n",
            "Epoch 34/50\n",
            "317/317 [==============================] - 231s 728ms/step - loss: 0.0216 - mean_absolute_error: 0.1172 - val_loss: 0.0220 - val_mean_absolute_error: 0.1185\n",
            "\n",
            "Epoch 00034: mean_absolute_error improved from 0.11721 to 0.11719, saving model to model.h5\n",
            "Epoch 35/50\n",
            "317/317 [==============================] - 230s 727ms/step - loss: 0.0216 - mean_absolute_error: 0.1172 - val_loss: 0.0220 - val_mean_absolute_error: 0.1185\n",
            "\n",
            "Epoch 00035: mean_absolute_error did not improve from 0.11719\n",
            "Epoch 36/50\n",
            "317/317 [==============================] - 231s 727ms/step - loss: 0.0216 - mean_absolute_error: 0.1172 - val_loss: 0.0220 - val_mean_absolute_error: 0.1185\n",
            "\n",
            "Epoch 00036: mean_absolute_error did not improve from 0.11719\n",
            "Epoch 37/50\n",
            "317/317 [==============================] - 231s 730ms/step - loss: 0.0216 - mean_absolute_error: 0.1172 - val_loss: 0.0220 - val_mean_absolute_error: 0.1185\n",
            "\n",
            "Epoch 00037: mean_absolute_error improved from 0.11719 to 0.11719, saving model to model.h5\n",
            "Epoch 38/50\n",
            "317/317 [==============================] - 230s 727ms/step - loss: 0.0216 - mean_absolute_error: 0.1172 - val_loss: 0.0220 - val_mean_absolute_error: 0.1185\n",
            "\n",
            "Epoch 00038: mean_absolute_error did not improve from 0.11719\n",
            "Epoch 39/50\n",
            "317/317 [==============================] - 230s 726ms/step - loss: 0.0216 - mean_absolute_error: 0.1172 - val_loss: 0.0220 - val_mean_absolute_error: 0.1185\n",
            "\n",
            "Epoch 00039: mean_absolute_error improved from 0.11719 to 0.11718, saving model to model.h5\n",
            "Epoch 40/50\n",
            "317/317 [==============================] - 230s 726ms/step - loss: 0.0216 - mean_absolute_error: 0.1172 - val_loss: 0.0220 - val_mean_absolute_error: 0.1185\n",
            "\n",
            "Epoch 00040: mean_absolute_error improved from 0.11718 to 0.11718, saving model to model.h5\n",
            "Epoch 41/50\n",
            "317/317 [==============================] - 230s 726ms/step - loss: 0.0216 - mean_absolute_error: 0.1172 - val_loss: 0.0220 - val_mean_absolute_error: 0.1186\n",
            "\n",
            "Epoch 00041: mean_absolute_error did not improve from 0.11718\n",
            "Epoch 42/50\n",
            "317/317 [==============================] - 231s 729ms/step - loss: 0.0216 - mean_absolute_error: 0.1172 - val_loss: 0.0220 - val_mean_absolute_error: 0.1186\n",
            "\n",
            "Epoch 00042: mean_absolute_error improved from 0.11718 to 0.11718, saving model to model.h5\n",
            "Epoch 43/50\n",
            "317/317 [==============================] - 230s 727ms/step - loss: 0.0216 - mean_absolute_error: 0.1172 - val_loss: 0.0220 - val_mean_absolute_error: 0.1186\n",
            "\n",
            "Epoch 00043: mean_absolute_error did not improve from 0.11718\n",
            "Epoch 44/50\n",
            "317/317 [==============================] - 231s 729ms/step - loss: 0.0216 - mean_absolute_error: 0.1172 - val_loss: 0.0220 - val_mean_absolute_error: 0.1185\n",
            "\n",
            "Epoch 00044: mean_absolute_error did not improve from 0.11718\n",
            "Epoch 45/50\n",
            "317/317 [==============================] - 231s 727ms/step - loss: 0.0216 - mean_absolute_error: 0.1172 - val_loss: 0.0220 - val_mean_absolute_error: 0.1185\n",
            "\n",
            "Epoch 00045: mean_absolute_error improved from 0.11718 to 0.11718, saving model to model.h5\n",
            "Epoch 46/50\n",
            "317/317 [==============================] - 231s 730ms/step - loss: 0.0216 - mean_absolute_error: 0.1172 - val_loss: 0.0220 - val_mean_absolute_error: 0.1186\n",
            "\n",
            "Epoch 00046: mean_absolute_error did not improve from 0.11718\n",
            "Epoch 47/50\n",
            "317/317 [==============================] - 231s 730ms/step - loss: 0.0216 - mean_absolute_error: 0.1172 - val_loss: 0.0220 - val_mean_absolute_error: 0.1186\n",
            "\n",
            "Epoch 00047: mean_absolute_error improved from 0.11718 to 0.11717, saving model to model.h5\n",
            "Epoch 48/50\n",
            "317/317 [==============================] - 232s 731ms/step - loss: 0.0216 - mean_absolute_error: 0.1172 - val_loss: 0.0220 - val_mean_absolute_error: 0.1186\n",
            "\n",
            "Epoch 00048: mean_absolute_error did not improve from 0.11717\n",
            "Epoch 49/50\n",
            "317/317 [==============================] - 231s 727ms/step - loss: 0.0216 - mean_absolute_error: 0.1172 - val_loss: 0.0220 - val_mean_absolute_error: 0.1185\n",
            "\n",
            "Epoch 00049: mean_absolute_error improved from 0.11717 to 0.11717, saving model to model.h5\n",
            "Epoch 50/50\n",
            "317/317 [==============================] - 230s 727ms/step - loss: 0.0216 - mean_absolute_error: 0.1172 - val_loss: 0.0220 - val_mean_absolute_error: 0.1186\n",
            "\n",
            "Epoch 00050: mean_absolute_error did not improve from 0.11717\n"
          ],
          "name": "stdout"
        }
      ]
    },
    {
      "cell_type": "markdown",
      "metadata": {
        "id": "GkHTkZjKSRLG"
      },
      "source": [
        "Invoke Tensorboard"
      ]
    },
    {
      "cell_type": "code",
      "metadata": {
        "id": "ahOCgWz2KkLT"
      },
      "source": [
        "# Load the TensorBoard notebook extension \r\n",
        "# https://stackoverflow.com/questions/55970686/tensorboard-not-found-as-magic-function-in-jupyter\r\n",
        "\r\n",
        "%load_ext tensorboard"
      ],
      "execution_count": null,
      "outputs": []
    },
    {
      "cell_type": "code",
      "metadata": {
        "id": "yxnPAAAr192J",
        "colab": {
          "base_uri": "https://localhost:8080/",
          "height": 821
        },
        "outputId": "45d3e926-32e0-4173-b033-b60ed8be0c78"
      },
      "source": [
        "%tensorboard --logdir logs"
      ],
      "execution_count": null,
      "outputs": []
    },
    {
      "cell_type": "markdown",
      "metadata": {
        "id": "6UEkCiyzYFy2"
      },
      "source": [
        "# Part 4. Model evaluation"
      ]
    },
    {
      "cell_type": "code",
      "metadata": {
        "id": "2ljq7zOXS-48",
        "colab": {
          "base_uri": "https://localhost:8080/"
        },
        "outputId": "d1f59559-28b6-4443-a8f6-2f1a66c8ba25"
      },
      "source": [
        "model.evaluate(test_generator, verbose=1)   # better to use different test_generator and validate_generator data for model evaluate and validation purposes\r\n",
        "                                            #    in this case, we are using the same test_generator data\r\n",
        "                                            # results: val_loss, val_MAE"
      ],
      "execution_count": null,
      "outputs": [
        {
          "output_type": "stream",
          "text": [
            "21/21 [==============================] - 7s 345ms/step - loss: 0.0220 - mean_absolute_error: 0.1186\n"
          ],
          "name": "stdout"
        },
        {
          "output_type": "execute_result",
          "data": {
            "text/plain": [
              "[0.02200373262166977, 0.11855580657720566]"
            ]
          },
          "metadata": {
            "tags": []
          },
          "execution_count": 49
        }
      ]
    },
    {
      "cell_type": "markdown",
      "metadata": {
        "id": "Lg80aEzGVFC7"
      },
      "source": [
        "# Part 5. Model inference (Prediction )"
      ]
    },
    {
      "cell_type": "markdown",
      "metadata": {
        "id": "x5b6Hl8dZZTp"
      },
      "source": [
        "Do Prediction"
      ]
    },
    {
      "cell_type": "code",
      "metadata": {
        "id": "2yS91A68ta5K"
      },
      "source": [
        "predictions = model.predict(test_generator)"
      ],
      "execution_count": null,
      "outputs": []
    },
    {
      "cell_type": "code",
      "metadata": {
        "id": "rX50uRqItqz8"
      },
      "source": [
        "#predictions[0:19]"
      ],
      "execution_count": null,
      "outputs": []
    },
    {
      "cell_type": "code",
      "metadata": {
        "id": "YqcV-MQYt8w8",
        "colab": {
          "base_uri": "https://localhost:8080/"
        },
        "outputId": "84dbc125-15e6-4c6e-f988-fec33e8480dc"
      },
      "source": [
        "predictions.shape"
      ],
      "execution_count": null,
      "outputs": [
        {
          "output_type": "execute_result",
          "data": {
            "text/plain": [
              "(2564, 1)"
            ]
          },
          "metadata": {
            "tags": []
          },
          "execution_count": 52
        }
      ]
    },
    {
      "cell_type": "markdown",
      "metadata": {
        "id": "HYKDUVBft5Do"
      },
      "source": [
        "# Part 6. Present the prediction results using graph"
      ]
    },
    {
      "cell_type": "markdown",
      "metadata": {
        "id": "DiNDy2RxwmNq"
      },
      "source": [
        "Inverse Transform"
      ]
    },
    {
      "cell_type": "code",
      "metadata": {
        "id": "wKV4hzlBwX1h"
      },
      "source": [
        "df_pred_rev = scaler.inverse_transform(predictions)"
      ],
      "execution_count": null,
      "outputs": []
    },
    {
      "cell_type": "markdown",
      "metadata": {
        "id": "zUk4L7H70Mkb"
      },
      "source": [
        "Append columns into the current DataFrame for better presentation"
      ]
    },
    {
      "cell_type": "code",
      "metadata": {
        "id": "6k-GJi3MuSlH",
        "colab": {
          "base_uri": "https://localhost:8080/"
        },
        "outputId": "8c9f6038-5df3-4f48-aa05-9af56c083769"
      },
      "source": [
        "df_input.shape"
      ],
      "execution_count": null,
      "outputs": [
        {
          "output_type": "execute_result",
          "data": {
            "text/plain": [
              "(63217, 1)"
            ]
          },
          "metadata": {
            "tags": []
          },
          "execution_count": 54
        }
      ]
    },
    {
      "cell_type": "code",
      "metadata": {
        "id": "jigCEBuxkeug"
      },
      "source": [
        "df_final = df_input[predictions.shape[0]*-1:].copy()  # *-1: go up from the last \r\n",
        "                                                      # select from the last row and go up to the row number (=predictions.shape[0]=16,406)\r\n",
        "                                                       # ==> which is reserved for actual data   \r\n"
      ],
      "execution_count": null,
      "outputs": []
    },
    {
      "cell_type": "code",
      "metadata": {
        "id": "4t8pUP-LkliC",
        "colab": {
          "base_uri": "https://localhost:8080/"
        },
        "outputId": "e399cbda-b548-476a-b3d9-9c0537f952d7"
      },
      "source": [
        "df_final.info()"
      ],
      "execution_count": null,
      "outputs": [
        {
          "output_type": "stream",
          "text": [
            "<class 'pandas.core.frame.DataFrame'>\n",
            "Int64Index: 2564 entries, 116422 to 121550\n",
            "Data columns (total 1 columns):\n",
            " #   Column     Non-Null Count  Dtype\n",
            "---  ------     --------------  -----\n",
            " 0   Occupancy  2564 non-null   int64\n",
            "dtypes: int64(1)\n",
            "memory usage: 40.1 KB\n"
          ],
          "name": "stdout"
        }
      ]
    },
    {
      "cell_type": "code",
      "metadata": {
        "id": "Ubr-AMBMuJqc",
        "colab": {
          "base_uri": "https://localhost:8080/"
        },
        "outputId": "68b52884-e7bb-4276-ddc5-3edbba2613b7"
      },
      "source": [
        "df_final.shape"
      ],
      "execution_count": null,
      "outputs": [
        {
          "output_type": "execute_result",
          "data": {
            "text/plain": [
              "(2564, 1)"
            ]
          },
          "metadata": {
            "tags": []
          },
          "execution_count": 57
        }
      ]
    },
    {
      "cell_type": "code",
      "metadata": {
        "id": "Dm3IXLntjyMu"
      },
      "source": [
        "# change column name from 'Occupancy' to 'Occ_Actual'\r\n",
        "df_final.columns = ['Occ_Actual']"
      ],
      "execution_count": null,
      "outputs": []
    },
    {
      "cell_type": "code",
      "metadata": {
        "id": "r1xHTCqlhnnn",
        "colab": {
          "base_uri": "https://localhost:8080/"
        },
        "outputId": "6fe2aa21-40a4-4f05-a1b2-16b0ccf1e8ec"
      },
      "source": [
        "df_final.info()"
      ],
      "execution_count": null,
      "outputs": [
        {
          "output_type": "stream",
          "text": [
            "<class 'pandas.core.frame.DataFrame'>\n",
            "Int64Index: 2564 entries, 116422 to 121550\n",
            "Data columns (total 1 columns):\n",
            " #   Column      Non-Null Count  Dtype\n",
            "---  ------      --------------  -----\n",
            " 0   Occ_Actual  2564 non-null   int64\n",
            "dtypes: int64(1)\n",
            "memory usage: 40.1 KB\n"
          ],
          "name": "stdout"
        }
      ]
    },
    {
      "cell_type": "markdown",
      "metadata": {
        "id": "Umx-9t7iaImx"
      },
      "source": [
        "Add one more column (named 'Occ_Predicted') into the final dataFrame \r\n"
      ]
    },
    {
      "cell_type": "code",
      "metadata": {
        "id": "MV-zXzP-z1ry"
      },
      "source": [
        "df_final['Occ_Predicted'] = df_pred_rev[:,0] # append one more column (named 'Occ_Predicted') into df_final \r\n"
      ],
      "execution_count": null,
      "outputs": []
    },
    {
      "cell_type": "code",
      "metadata": {
        "id": "kBXb25aT0Fz9",
        "colab": {
          "base_uri": "https://localhost:8080/"
        },
        "outputId": "dc95c00e-0180-4bf3-be0a-2397867c4920"
      },
      "source": [
        "df_final.head()"
      ],
      "execution_count": null,
      "outputs": [
        {
          "output_type": "execute_result",
          "data": {
            "text/html": [
              "<div>\n",
              "<style scoped>\n",
              "    .dataframe tbody tr th:only-of-type {\n",
              "        vertical-align: middle;\n",
              "    }\n",
              "\n",
              "    .dataframe tbody tr th {\n",
              "        vertical-align: top;\n",
              "    }\n",
              "\n",
              "    .dataframe thead th {\n",
              "        text-align: right;\n",
              "    }\n",
              "</style>\n",
              "<table border=\"1\" class=\"dataframe\">\n",
              "  <thead>\n",
              "    <tr style=\"text-align: right;\">\n",
              "      <th></th>\n",
              "      <th>Occ_Actual</th>\n",
              "      <th>Occ_Predicted</th>\n",
              "    </tr>\n",
              "  </thead>\n",
              "  <tbody>\n",
              "    <tr>\n",
              "      <th>116422</th>\n",
              "      <td>116</td>\n",
              "      <td>104.893799</td>\n",
              "    </tr>\n",
              "    <tr>\n",
              "      <th>116424</th>\n",
              "      <td>111</td>\n",
              "      <td>104.895447</td>\n",
              "    </tr>\n",
              "    <tr>\n",
              "      <th>116426</th>\n",
              "      <td>114</td>\n",
              "      <td>104.897911</td>\n",
              "    </tr>\n",
              "    <tr>\n",
              "      <th>116428</th>\n",
              "      <td>106</td>\n",
              "      <td>104.900764</td>\n",
              "    </tr>\n",
              "    <tr>\n",
              "      <th>116431</th>\n",
              "      <td>103</td>\n",
              "      <td>104.901901</td>\n",
              "    </tr>\n",
              "  </tbody>\n",
              "</table>\n",
              "</div>"
            ],
            "text/plain": [
              "        Occ_Actual  Occ_Predicted\n",
              "116422         116     104.893799\n",
              "116424         111     104.895447\n",
              "116426         114     104.897911\n",
              "116428         106     104.900764\n",
              "116431         103     104.901901"
            ]
          },
          "metadata": {
            "tags": []
          },
          "execution_count": 61
        }
      ]
    }
  ]
}